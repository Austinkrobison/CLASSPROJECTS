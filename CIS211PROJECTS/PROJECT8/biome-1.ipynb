{
 "cells": [
  {
   "cell_type": "markdown",
   "metadata": {
    "deletable": true,
    "editable": true
   },
   "source": [
    "# <span style=\"color:teal;\">CIS 211 Project 8:  &nbsp; Bears and Fish</span>"
   ]
  },
  {
   "cell_type": "markdown",
   "metadata": {
    "deletable": true,
    "editable": true
   },
   "source": [
    "##### Due 11:00 P.M. Thursday Mar 16"
   ]
  },
  {
   "cell_type": "markdown",
   "metadata": {
    "deletable": true,
    "editable": true
   },
   "source": [
    "##### <span style=\"color:red\">Group Members:</span>"
   ]
  },
  {
   "cell_type": "markdown",
   "metadata": {
    "deletable": true,
    "editable": true
   },
   "source": [
    "Group work is allowed for this project, but groups are exepcted to do more work (see markdown cells at the end of the notebook for suggestions and ideas).  \n",
    "\n",
    "If you work in a group only one group member should upload this notebook to Canvas.  Edit this cell to include the name and DuckID for each member of the group:"
   ]
  },
  {
   "cell_type": "markdown",
   "metadata": {
    "deletable": true,
    "editable": true,
    "nbgrader": {
     "grade": false,
     "locked": false,
     "points": 0,
     "solution": false
    }
   },
   "source": [
    "**Name:**\n",
    "\n",
    "**Name:**\n",
    "\n",
    "**Name:**"
   ]
  },
  {
   "cell_type": "markdown",
   "metadata": {
    "deletable": true,
    "editable": true
   },
   "source": [
    "##  <span style=\"color:teal;\">Overview</span> "
   ]
  },
  {
   "cell_type": "markdown",
   "metadata": {
    "deletable": true,
    "editable": true
   },
   "source": [
    "The last project this term is a cellular automaton style biological simulation.  \n",
    "\n",
    "The sytem is described in Chapter 11 of the Miller and Ranum text.  **Read the description of the simulation in the textbook before you start working on this project.**  Your code will be quite a bit different than the code in the book, but the rules of the simulation are the same, and you need to know how objects interact.\n",
    "\n",
    "The project has three main parts:\n",
    "* A class named World that defines a 2D grid where cells are accessed according to their row and column coordinates\n",
    "* Classes for Bear and Fish, the organisms that can inhabit the world\n",
    "* Two top level functions, `wbf` and `step_system`; the first will make a world and populate it at random with bears and fish, and the second will run a simulation using that world.\n",
    "\n",
    "We're written `step_system` for you -- it's in the last code cell in this notebook -- but you need to design, implement, and test the classes and the `wbf` function."
   ]
  },
  {
   "cell_type": "markdown",
   "metadata": {
    "deletable": true,
    "editable": true
   },
   "source": [
    "##  <span style=\"color:teal;\">Libraries</span> "
   ]
  },
  {
   "cell_type": "markdown",
   "metadata": {
    "deletable": true,
    "editable": true
   },
   "source": [
    "Your program will need to use `numpy` (a numeric processing library) and `random` (the builtin random number generator module).  You can import additional modules if you wish; add the import statements to this code cell."
   ]
  },
  {
   "cell_type": "code",
   "execution_count": 1,
   "metadata": {
    "collapsed": false,
    "deletable": true,
    "editable": true
   },
   "outputs": [],
   "source": [
    "import numpy as np\n",
    "import random"
   ]
  },
  {
   "cell_type": "markdown",
   "metadata": {
    "deletable": true,
    "editable": true
   },
   "source": [
    "##  <span style=\"color:teal;\">Event Log</span> "
   ]
  },
  {
   "cell_type": "markdown",
   "metadata": {
    "deletable": true,
    "editable": true
   },
   "source": [
    "A useful debugging technique is to save descriptions of events in a log.  Any code in the simulator, whether it is the top level function or a method in one of your classes, can call a function named `log`, passing it a description of an event that just occurred.  Examples might be \n",
    "```\n",
    "new Fish in cell (x,y)\n",
    "```\n",
    "or \n",
    "```\n",
    "Bear in cell (x,y) eats Fish in cell (x,y)\n",
    "```\n",
    "\n",
    "The function below uses a global variable named `logging`.  If you want to take advantage of the `log` function:\n",
    "* edit the cell to set `logging` to True\n",
    "* add calls to `log` at various points in your methods\n",
    "\n",
    "Later, when doing large scale simulations, you can turn off logging simply by setting `logging` to False before you call the top level simulation function.\n",
    "\n",
    "**Note:** &nbsp; you can change the definition of the `log` function however you want, _e.g._ you can have it write log messages to a file or printadditional information."
   ]
  },
  {
   "cell_type": "code",
   "execution_count": 2,
   "metadata": {
    "collapsed": true,
    "deletable": true,
    "editable": true
   },
   "outputs": [],
   "source": [
    "logging = False\n",
    "\n",
    "def log(message):\n",
    "    if logging:\n",
    "        print(message)"
   ]
  },
  {
   "cell_type": "markdown",
   "metadata": {
    "deletable": true,
    "editable": true
   },
   "source": [
    "##  <span style=\"color:teal;\">World (20 points)</span>"
   ]
  },
  {
   "cell_type": "markdown",
   "metadata": {
    "deletable": true,
    "editable": true
   },
   "source": [
    "Describe your World class in the following markdown cell, and write the code for the class in the code cell below the markdown cell.\n",
    "\n",
    "The minimum requiremens for this class are:\n",
    "* the constructor should be passed the grid size (number of rows and columns)\n",
    "* all cells should contain `None` when the world is initialized; later they can contain references to Fish or Bear objects\n",
    "* include a method named `biota` that returns a list of Fish and Bear objects currently in the grid\n",
    "\n",
    "You should also define the methods that allow you to access a cell or store a value in a cell using Python's indexing operator.  For example, if `w` is a World object, `w[i,j]` should return the object in row `i`, column `j` (which could be None).  You should also be able to store an item in the grid by using `w[i,j]` on the left side of an assignment statement.\n",
    "\n",
    "You can have additional instance methods, class variables, or class methods.  Make sure you describe any new additions in the documentation.\n",
    "\n",
    "**Note:** &nbsp; There are no auto-grader tests for the World class; tests for this class will be done as part of the tests for the Bear and Fish classes."
   ]
  },
  {
   "cell_type": "markdown",
   "metadata": {
    "deletable": true,
    "editable": true
   },
   "source": [
    "##### <span style=color:red>Documentation</span> "
   ]
  },
  {
   "cell_type": "markdown",
   "metadata": {
    "deletable": true,
    "editable": true
   },
   "source": [
    "**Important** Write your documentation in the following markdown cell.  Do not delete or move this cell."
   ]
  },
  {
   "cell_type": "markdown",
   "metadata": {
    "deletable": false,
    "editable": true,
    "nbgrader": {
     "checksum": "01f3afaf338295648a9e34f9ecbb2a59",
     "grade": true,
     "grade_id": "world_doc",
     "locked": false,
     "points": 5,
     "solution": true
    }
   },
   "source": [
    "x and y return the array coordinates for compuations in animal.adjacent\n",
    "simple coordinate check to see if a space is filled up\n",
    "insert puts an animal in its own coordinates, its pretty clever because it uses animal's attributes to put it inside, no need fo an extra tuple input\n",
    "delete just makes a space into none (sorta like the death star and alderaan)\n",
    "who checks the spot and returns what it is\n",
    "represent gives the array that 'self._grid' makes\n",
    "and biota does what we want it to\n"
   ]
  },
  {
   "cell_type": "markdown",
   "metadata": {
    "deletable": true,
    "editable": true
   },
   "source": [
    "##### <span style=color:red>Code</span> "
   ]
  },
  {
   "cell_type": "markdown",
   "metadata": {
    "deletable": true,
    "editable": true
   },
   "source": [
    "**Important** Write the definition of your World class in the following code cell. Do not delete or move this cell."
   ]
  },
  {
   "cell_type": "code",
   "execution_count": 2,
   "metadata": {
    "collapsed": false,
    "deletable": false,
    "editable": true,
    "nbgrader": {
     "checksum": "e65d9e141f72678833aa23eeda28b6ac",
     "grade": true,
     "grade_id": "world",
     "locked": false,
     "points": 15,
     "solution": true
    }
   },
   "outputs": [],
   "source": [
    "class World():\n",
    "    def __init__(self, rows, cols, fish=0, bears=0):\n",
    "        self._rows = rows\n",
    "        self._cols = cols\n",
    "        self._fish = fish\n",
    "        self._bears = bears\n",
    "        self._grid = np.array([None] * (self._rows * self._cols)).reshape(self._rows, self._cols)\n",
    "            \n",
    "    def x(self):\n",
    "        return self._rows -1\n",
    "    \n",
    "    def y(self):\n",
    "        return self._cols -1\n",
    "    \n",
    "    def check_coord(self, tup):\n",
    "        if (0 <= tup[0] <= self._rows-1):\n",
    "            if (0 <= tup[1] <= self._cols-1):\n",
    "                return True\n",
    "        return False\n",
    "            \n",
    "    def insert(self, animal):\n",
    "        tup = animal.location()\n",
    "        if self.check_coord(tup):\n",
    "            self._grid[tup] = animal\n",
    "            \n",
    "            \n",
    "    def delete(self, tup):\n",
    "        if self.check_coord(tup):\n",
    "            self._grid[tup[0], tup[1]] = None\n",
    "            \n",
    "        \n",
    "    def who(self, tup):\n",
    "        if self.check_coord(tup):\n",
    "            return self._grid[tup[0], tup[1]]\n",
    "    \n",
    "    def represent(self):\n",
    "        return self._grid \n",
    "    \n",
    "    def biota(self):\n",
    "        res_list = list()\n",
    "        for col in list(range(self._cols)):\n",
    "            for row in list(range(self._rows)):\n",
    "                if self._grid[col, row] != None:\n",
    "                    i_tup = self._grid[col, row]\n",
    "                    res_list.append(i_tup)\n",
    "        return res_list\n",
    "        "
   ]
  },
  {
   "cell_type": "markdown",
   "metadata": {
    "collapsed": true,
    "deletable": true,
    "editable": true
   },
   "source": [
    "## <span style=\"color:teal;\">Fish and Bears</span>"
   ]
  },
  {
   "cell_type": "markdown",
   "metadata": {
    "deletable": true,
    "editable": true
   },
   "source": [
    "To run a simulation we need to add a random collection of animals to the world.  The two types of animals in this simulation are fish and bears, and you will write class definitions named Fish and Bear that implement the behaviors of the animals."
   ]
  },
  {
   "cell_type": "markdown",
   "metadata": {
    "deletable": true,
    "editable": true
   },
   "source": [
    "### Fish Class"
   ]
  },
  {
   "cell_type": "markdown",
   "metadata": {
    "deletable": true,
    "editable": true
   },
   "source": [
    "During the simulation a Fish object needs to behave as follows:\n",
    "\n",
    "(1) Fish are susceptible to overcrowding:  if there are fish in 2 or more neighboring cells the fish dies (it's removed from the simulation)\n",
    "\n",
    "(2) A fish can reproduce if it has been alive for a certain number of time steps: a random neighboring cell is chosen, and if that cell is empty, a new fish is placed in that cell\n",
    "\n",
    "(3) A fish can move to another cell:  it picks a random direction, and if the neighboring cell in that direction is unoccupied the fish moves there\n",
    "\n",
    "The constructor for the Fish class will be passed a reference to a World object and a location, in the form of a tuple with a row number and column number (the object needs to know its location so it can look for other objects in neighboring cells).\n",
    "\n",
    "The class should include the following methods:\n",
    "* `live` implements rules 1 and 2 shown above\n",
    "* `move` implements rule 3\n",
    "* `location` returns the current grid location (row and column) of the object\n",
    "\n",
    "Define a class variable named `breed_interval` to specify how many time steps a fish must be alive before it reproduces; the initial value for this variable is 12.\n"
   ]
  },
  {
   "cell_type": "markdown",
   "metadata": {
    "deletable": true,
    "editable": true
   },
   "source": [
    "### Bear Class"
   ]
  },
  {
   "cell_type": "markdown",
   "metadata": {
    "deletable": true,
    "editable": true
   },
   "source": [
    "During the simulation a Bear object needs to behave as follows:\n",
    "\n",
    "(1) A bear looks for fish in each adjacent cell; if it finds one or more fish it eats one at random \n",
    "\n",
    "(2) If a bear has not eaten for certain number of time steps it dies (it's removed from the simulation)\n",
    "\n",
    "(3) A bear can reproduce if it has been alive for a certain number of time steps: a random neighboring cell is chosen, and if that cell is empty, a new bear is placed in that cell\n",
    "\n",
    "(4) A bear can move to another cell:  it picks a random direction, and if the neighboring cell in that direction is unoccupied the bear moves there\n",
    "\n",
    "Define a class variable named `breed_interval` to specify how many time steps a bear must be alive before it reproduces; the initial value for this variable is 8.  Define another class variable named `survive_without_food` to be the number of time steps a bear can live before it dies from starvation; the initial value for this variable is 10.\n",
    "\n",
    "The constructor will be passed a reference to a World object and a location, in the form of a tuple with a row number and column number (the object needs to know its location so it can look for other objects in neighboring cells).\n",
    "\n",
    "The class should include the following methods:\n",
    "* `live` implements rules 1, 2, and 3 shown above\n",
    "* `move` implements rule 4\n",
    "* `location` returns the current grid location (row and column) of the object"
   ]
  },
  {
   "cell_type": "markdown",
   "metadata": {
    "deletable": true,
    "editable": true
   },
   "source": [
    "### Animal (Base Class)?"
   ]
  },
  {
   "cell_type": "markdown",
   "metadata": {
    "deletable": true,
    "editable": true
   },
   "source": [
    "From the descriptions above it should be apparent that fish and bears have some things in common.\n",
    "\n",
    "For **full credit** on the coding and documnetation portions of this project you should define a class named Animal and use it as the base class for your Fish and Bear classes.  Some things to think about as you design your classes:\n",
    "* are there behaviors or operations that are common to both and that can be implemented just once in Animal?\n",
    "* perhaps a behavior or operation can be defined with a default in the Animal class, and then overridden in the derived class?\n",
    "\n",
    "One strategy you might consider is to write a complete implementation for one class, either Bear or Fish.  After you have debugged the class and it passes its unit tests you'll have a better idea of what to implement in the other class.  Then you can start moving common behaviors to the Animal class while you are writing the other derived class.\n",
    "\n",
    "You can still receive **partial credit** if you skip the Animal class and simply write completely separate Fish and Bear classes.  None of the unit tests assume there is a class named Animal."
   ]
  },
  {
   "cell_type": "markdown",
   "metadata": {
    "deletable": true,
    "editable": true
   },
   "source": [
    "### Details and Hints"
   ]
  },
  {
   "cell_type": "markdown",
   "metadata": {
    "deletable": true,
    "editable": true
   },
   "source": [
    "**Fish:** &nbsp; The way the simulation is defined a fish might be eaten before the top level simulation calls the `live` method.  Your `live` method should check to make sure the fish is still alive.  The easiest way to do this is to include an instance variable named `_alive` that is set to True when the fish is initialized and set to False when it dies.\n",
    "\n",
    "You can have additional instance methods, class variables, or class methods.  Make sure you describe any new additions in the documentation.\n",
    "\n",
    "**Animal:** &nbsp; Keep this in mind when you design the class hierarchy: every object has an attribute named ``__class__`` (with two underscores before and after the name).  It is a reference to the class an object was defined with.  As an example of how to use it, consider what would happen if we want to define `reproduce` in the Animal class so it is inherited by both Fish and Bear classes.  We need to know the value of `breed_interval` in each object's own class.  We can find this value using the expression\n",
    "```\n",
    "self.__class__.breed_interval\n",
    "```\n",
    "This will be a reference to `Fish.breed_interval` or `Bear.breed_interval`, depending on whether a `reproduce` was called with Fish object or Bear object.\n"
   ]
  },
  {
   "cell_type": "markdown",
   "metadata": {
    "collapsed": true,
    "deletable": true,
    "editable": true
   },
   "source": [
    "### <span style=\"color:teal;\">Animal (20 points)</span>"
   ]
  },
  {
   "cell_type": "markdown",
   "metadata": {
    "deletable": true,
    "editable": true
   },
   "source": [
    "##### <span style=color:red>Documentation</span> "
   ]
  },
  {
   "cell_type": "markdown",
   "metadata": {
    "deletable": true,
    "editable": true
   },
   "source": [
    "If you implement the Animal class write your documentation in the following markdown cell.  \n",
    "\n",
    "**Important** Do not delete or move this cell."
   ]
  },
  {
   "cell_type": "markdown",
   "metadata": {
    "deletable": false,
    "editable": true,
    "nbgrader": {
     "checksum": "986898dea06ca2d2febeb3ffb1074ab3",
     "grade": true,
     "grade_id": "animal_doc",
     "locked": false,
     "points": 10,
     "solution": true
    }
   },
   "source": [
    "The animal age is how many 'turns' old the animal is\n",
    "emoji is just the nice way that ill display the other animals\n",
    "age returns how many turns old the animal is\n",
    "birthday throws the animal a little birthday party\n",
    "x returns the x value of the coordinates\n",
    "y does the same for y\n",
    "location does what x and y do but returns a tuple\n",
    "new_pos just updates an animals coordiantes\n",
    "adjacent returns a list of nearby spaces of an animal, also implements the torus effect cause we had to do that\n",
    "and __repr__ is an emoji value of None, because we dont know what emoji to put, but when inherited it will be different"
   ]
  },
  {
   "cell_type": "markdown",
   "metadata": {
    "deletable": true,
    "editable": true
   },
   "source": [
    "##### <span style=color:red>Code</span> "
   ]
  },
  {
   "cell_type": "markdown",
   "metadata": {
    "deletable": true,
    "editable": true
   },
   "source": [
    "If you implement the Animal class write the definition in the following code cell\n",
    "\n",
    "**Important:** &nbsp; Do not delete or move this cell."
   ]
  },
  {
   "cell_type": "code",
   "execution_count": 3,
   "metadata": {
    "collapsed": false,
    "deletable": false,
    "editable": true,
    "nbgrader": {
     "checksum": "3ab9549a288942d068326e50e49d4d3e",
     "grade": true,
     "grade_id": "animal",
     "locked": false,
     "points": 10,
     "solution": true
    }
   },
   "outputs": [],
   "source": [
    "class Animal():\n",
    "    def __init__(self, world, tup_loc, emoji=None, age=0):\n",
    "        self._emoji = emoji\n",
    "        self._tup_loc = tup_loc\n",
    "        self._world = world\n",
    "        self._age  = age\n",
    "        self.breed_interval = None\n",
    "        \n",
    "    def age(self):\n",
    "        return self._age\n",
    "    \n",
    "    def birthday(self):\n",
    "        self._age += 1\n",
    "        \n",
    "    def x(self):\n",
    "        return self._p_row\n",
    "    \n",
    "    def y(self):\n",
    "        return self._p_col\n",
    "    \n",
    "    def location(self):\n",
    "        return self._tup_loc\n",
    "    \n",
    "    def new_pos(self, new_tup):\n",
    "        self._tup_loc = new_tup\n",
    " \n",
    "    def __repr__(self):\n",
    "        return '{}'.format(self._emoji)\n",
    "                        \n",
    "    def adjacent(self):\n",
    "        world = self._world\n",
    "        x = self._tup_loc[0]\n",
    "        y = self._tup_loc[1]\n",
    "        neighbor_spaces = list( ((x - 1, y - 1), (x, y - 1), (x + 1, y - 1),\n",
    "                            (x - 1, y),     (x + 1, y),\n",
    "                            (x - 1, y + 1), (x, y + 1), (x + 1, y + 1) ) )\n",
    "        nl = list()\n",
    "        \n",
    "        for coord in list(range(len(neighbor_spaces))): #tourus effect\n",
    "        \n",
    "            neighbor_spaces[coord] = list(neighbor_spaces[coord])#tuples are immutable, must change to a list\n",
    "            \n",
    "            x = neighbor_spaces[coord][0]\n",
    "            y = neighbor_spaces[coord][1]\n",
    "\n",
    "            if x < 0:\n",
    "                x += world.x()+1\n",
    "            if y < 0:\n",
    "                y += world.y()+1\n",
    "            if x > world.x():\n",
    "                x -= world.x()-1\n",
    "            if y > world.x():\n",
    "                y -= world.x()-1\n",
    "\n",
    "            neighbor_spaces[coord] = (x,y) #i want to return a list of tuples\n",
    "            nl.append((x,y))\n",
    "        \n",
    "        \n",
    "        return tuple(nl)\n",
    "\n",
    "        \n",
    "        "
   ]
  },
  {
   "cell_type": "markdown",
   "metadata": {
    "collapsed": true,
    "deletable": true,
    "editable": true
   },
   "source": [
    "### <span style=\"color:teal;\">Fish (20 points)</span>"
   ]
  },
  {
   "cell_type": "markdown",
   "metadata": {
    "deletable": true,
    "editable": true
   },
   "source": [
    "##### <span style=color:red>Documentation</span> "
   ]
  },
  {
   "cell_type": "markdown",
   "metadata": {
    "deletable": true,
    "editable": true
   },
   "source": [
    "**Important:** &nbsp; Write the documentation for your Fish class in the following markdown cell.  Do not delete or move this cell."
   ]
  },
  {
   "cell_type": "markdown",
   "metadata": {
    "deletable": false,
    "editable": true,
    "nbgrader": {
     "checksum": "770b6a6bacc3948526ac069ce547b553",
     "grade": true,
     "grade_id": "fish_doc",
     "locked": false,
     "points": 5,
     "solution": true
    }
   },
   "source": [
    "here we make a subclass of animal, we give fish the ability to move and reproduce, live checks for overcrowding and deletes accordingly, and checks if the fish is able to reproduce, if it is then it makes a fish baby to explore\n",
    "\n",
    "and inser inserts the fish into the grid properly and breed interval is 12 as required\n",
    "\n",
    "we have to make reproduce in fish because we have to implement its class specific offspring"
   ]
  },
  {
   "cell_type": "markdown",
   "metadata": {
    "deletable": true,
    "editable": true
   },
   "source": [
    "##### <span style=color:red>Code</span> "
   ]
  },
  {
   "cell_type": "markdown",
   "metadata": {
    "deletable": true,
    "editable": true
   },
   "source": [
    "**Important:** &nbsp; Write the Python code for your Fish class in the following code cell.  Do not delete or move this cell."
   ]
  },
  {
   "cell_type": "code",
   "execution_count": 4,
   "metadata": {
    "collapsed": false,
    "deletable": false,
    "editable": true,
    "nbgrader": {
     "checksum": "e370f19380738e8e035b8a3de3696caa",
     "grade": true,
     "grade_id": "fish",
     "locked": false,
     "points": 7,
     "solution": true
    }
   },
   "outputs": [],
   "source": [
    "class Fish(Animal):\n",
    "    breed_interval = 12\n",
    "\n",
    "    def __init__(self, world, tup_loc, age=0):\n",
    "        Animal.__init__(self, world, tup_loc)\n",
    "        self._tup_loc = tup_loc\n",
    "        self._age = age\n",
    "        self._world = world\n",
    "        self._emoji = \"\\U0001F41F\"\n",
    "        self.inser()\n",
    "    \n",
    "    def inser(self):\n",
    "        self._world.insert(self)\n",
    "        \n",
    "    def move(self):\n",
    "        near = self.adjacent()\n",
    "        roll = random.randint(0, 7)\n",
    "\n",
    "        new_space = near[roll]\n",
    "        \n",
    "        n_age = self.age()\n",
    "        if self._world.who(new_space) == None:\n",
    "            self._world.delete(self.location())\n",
    "            self.new_pos(new_space)\n",
    "            self._world.insert(Fish(self._world, new_space, age=n_age))\n",
    "        \n",
    "    def reproduce(self):\n",
    "        pob = self.adjacent()\n",
    "        l = random.randint(0,6)\n",
    "        self._age = 0\n",
    "        self._world.insert(Fish(self._world,pob[l]))\n",
    "        \n",
    "                \n",
    "    def live(self):\n",
    "\n",
    "        adj = self.adjacent()\n",
    "        count=0\n",
    "        self.birthday()\n",
    "\n",
    "        for space in adj:\n",
    "            t = self._world.who(space)\n",
    "            if isinstance(t, Fish):\n",
    "                count += 1\n",
    "            if count >= 2:    \n",
    "                self._world.delete(space)\n",
    "                \n",
    "        if self.age() == Fish.breed_interval:\n",
    "            self.reproduce()\n",
    "        "
   ]
  },
  {
   "cell_type": "markdown",
   "metadata": {
    "deletable": true,
    "editable": true
   },
   "source": [
    "##### <span style=\"color:red\">Autograder Tests:</span>\n"
   ]
  },
  {
   "cell_type": "markdown",
   "metadata": {
    "deletable": true,
    "editable": true
   },
   "source": [
    "**Important:** &nbsp;  the code cells in this section will be used by `nbgrader` to run automated tests.  Do not move, delete or alter these cells in any way."
   ]
  },
  {
   "cell_type": "code",
   "execution_count": 53,
   "metadata": {
    "collapsed": false,
    "deletable": false,
    "editable": true,
    "nbgrader": {
     "checksum": "c32c52d57b358f858a8a11bc8345abc2",
     "grade": true,
     "grade_id": "fish_test_1",
     "locked": true,
     "points": 2,
     "solution": false
    }
   },
   "outputs": [],
   "source": [
    "# A new world has no objects\n",
    "w1 = World(5,5)\n",
    "assert len(w1.biota()) == 0\n",
    "\n",
    "# After adding a fish there should be one object\n",
    "f1 = Fish(w1, (2,2))\n",
    "assert len(w1.biota()) == 1\n",
    "\n",
    "# Test the location method\n",
    "assert f1.location() == (2,2)"
   ]
  },
  {
   "cell_type": "code",
   "execution_count": 54,
   "metadata": {
    "collapsed": false,
    "deletable": false,
    "editable": true,
    "nbgrader": {
     "checksum": "610108aff14c976d2ed17a3cd8d0fac9",
     "grade": true,
     "grade_id": "fish_test_2",
     "locked": true,
     "points": 2,
     "solution": false
    }
   },
   "outputs": [],
   "source": [
    "# Setting breed_interval to 1 should cause a fish to reproduce when live is called\n",
    "w2 = World(5,5)\n",
    "Fish.breed_interval = 1\n",
    "f2 = Fish(w2, (2,2))\n",
    "f2.live()\n",
    "assert len(w2.biota()) == 2\n",
    "\n",
    "# Reset the interval to original value for remaining tests\n",
    "Fish.breed_interval = 12"
   ]
  },
  {
   "cell_type": "code",
   "execution_count": 55,
   "metadata": {
    "collapsed": false,
    "deletable": false,
    "editable": true,
    "nbgrader": {
     "checksum": "1397054478e00a955967fa6aa32ee72c",
     "grade": true,
     "grade_id": "fish_test_3",
     "locked": true,
     "points": 2,
     "solution": false
    }
   },
   "outputs": [],
   "source": [
    "# Make three fish, the one in the middle should die from overcrowding\n",
    "w3 = World(5,5)\n",
    "f3 = Fish(w3, (2,2))\n",
    "Fish(w3, (1,1))\n",
    "Fish(w3, (3,3))\n",
    "f3.live()\n",
    "assert len(w2.biota()) == 2"
   ]
  },
  {
   "cell_type": "code",
   "execution_count": 56,
   "metadata": {
    "collapsed": false,
    "deletable": false,
    "editable": true,
    "nbgrader": {
     "checksum": "3e1ce3278dcd94d3f07d4701542b7df8",
     "grade": true,
     "grade_id": "fish_test_4",
     "locked": true,
     "points": 2,
     "solution": false
    }
   },
   "outputs": [],
   "source": [
    "# When a fish moves it should be within one cell of its original location\n",
    "w4 = World(5,5)\n",
    "f4 = Fish(w4, (2,2))\n",
    "f4.move()\n",
    "r, c = f4.location()\n",
    "assert (r,c) != (2,2)\n",
    "assert abs(r-2) <= 1 and abs(c-2) <= 1"
   ]
  },
  {
   "cell_type": "markdown",
   "metadata": {
    "deletable": true,
    "editable": true
   },
   "source": [
    "###  <span style=\"color:teal;\">Bear (20 points)</span>"
   ]
  },
  {
   "cell_type": "markdown",
   "metadata": {
    "deletable": true,
    "editable": true
   },
   "source": [
    "##### <span style=color:red>Documentation</span> "
   ]
  },
  {
   "cell_type": "markdown",
   "metadata": {
    "deletable": true,
    "editable": true
   },
   "source": [
    "**Important:** &nbsp; Write the documentation for your Bear class in the following markdown cell.  Do not delete or move this cell."
   ]
  },
  {
   "cell_type": "markdown",
   "metadata": {
    "deletable": false,
    "editable": true,
    "nbgrader": {
     "checksum": "745360994a43da361e98fe01baa7f1c2",
     "grade": true,
     "grade_id": "bear_doc",
     "locked": false,
     "points": 3,
     "solution": true
    }
   },
   "source": [
    "The bear class is almost the same as the fish class but it checks for how long the bear has been fasting, or 'fast'\n",
    "fast birthday indicates the 'birthday' of the fast time, much like the original birthday method works, just custom for bears\n",
    "we set the emoji so we can properly __repr__\n",
    "eat checks all nearby spaces for fish to eat, and a pass is put at the end so the bear cant pig out\n",
    "again, we have to make another reproduce because we have to implement its class specific offspring"
   ]
  },
  {
   "cell_type": "markdown",
   "metadata": {
    "deletable": true,
    "editable": true
   },
   "source": [
    "##### <span style=color:red>Code</span> "
   ]
  },
  {
   "cell_type": "markdown",
   "metadata": {
    "deletable": true,
    "editable": true
   },
   "source": [
    "**Important:** &nbsp; Write the Python code for your Bear class in the following code cell.  Do not delete or move this cell."
   ]
  },
  {
   "cell_type": "code",
   "execution_count": 5,
   "metadata": {
    "collapsed": true,
    "deletable": false,
    "editable": true,
    "nbgrader": {
     "checksum": "4caa2fe98c36ad7d876cb07eb412314c",
     "grade": true,
     "grade_id": "bear",
     "locked": false,
     "points": 7,
     "solution": true
    }
   },
   "outputs": [],
   "source": [
    "class Bear(Animal):\n",
    "    breed_interval = 8\n",
    "    survive_without_food = 10\n",
    "\n",
    "    def __init__(self, world, tup_loc, age=0, fast=0):\n",
    "        Animal.__init__(self, world, tup_loc)\n",
    "        self._tup_loc = tup_loc\n",
    "        self._age = age\n",
    "        self._world = world\n",
    "        self._fast = fast\n",
    "        self._emoji = \"\\U0001F43B\"\n",
    "        self.inser()\n",
    "        \n",
    "    def fast_birthday(self):\n",
    "        self._fast += 1\n",
    "        \n",
    "    def inser(self):\n",
    "        self._world.insert(self)\n",
    "        \n",
    "    def move(self):\n",
    "        near = self.adjacent()\n",
    "        roll = random.randint(0, 7)\n",
    "\n",
    "        new_space = near[roll]\n",
    "        \n",
    "        n_age = self.age()\n",
    "        n_fast = self._fast\n",
    "        if self._world.who(new_space) == None:\n",
    "            self._world.delete(self.location())\n",
    "            self.new_pos(new_space)\n",
    "            self._world.insert(Bear(self._world, new_space, age=n_age, fast=n_fast))\n",
    "        \n",
    "    def reproduce(self):\n",
    "        pob = self.adjacent()\n",
    "        l = random.randint(0,6)\n",
    "        self._age = 0\n",
    "        self._world.insert(Bear(self._world,pob[l]))\n",
    "        \n",
    "    def eat(self):\n",
    "        adj = self.adjacent()\n",
    "        for space in adj:\n",
    "            t = self._world.who(space)\n",
    "            if isinstance(t, Fish):\n",
    "                self._world.delete(space)\n",
    "                self._fast = 0\n",
    "                pass\n",
    "            \n",
    "    def live(self):\n",
    "        \n",
    "        if self._fast == Bear.survive_without_food:\n",
    "            \n",
    "            tup = self.location()\n",
    "            self._world.delete(tup)\n",
    "            \n",
    "        adj = self.adjacent()\n",
    "        count=0\n",
    "        self.birthday()\n",
    "        self.fast_birthday()\n",
    "        self.eat()\n",
    "        \n",
    "        if self.age() == Bear.breed_interval:\n",
    "            self.reproduce()"
   ]
  },
  {
   "cell_type": "markdown",
   "metadata": {
    "deletable": true,
    "editable": true
   },
   "source": [
    "##### <span style=\"color:red\">Autograder Tests:</span>"
   ]
  },
  {
   "cell_type": "markdown",
   "metadata": {
    "deletable": true,
    "editable": true
   },
   "source": [
    "**Important:** &nbsp;  the code cells in this section will be used by `nbgrader` to run automated tests.  Do not move, delete or alter these cells in any way."
   ]
  },
  {
   "cell_type": "code",
   "execution_count": 58,
   "metadata": {
    "collapsed": false,
    "deletable": false,
    "editable": true,
    "nbgrader": {
     "checksum": "02a09e90f9adc651f6c235e7b6d86f2b",
     "grade": true,
     "grade_id": "bear_test_1",
     "locked": true,
     "points": 2,
     "solution": false
    }
   },
   "outputs": [],
   "source": [
    "# Test the Bear constructor and location method\n",
    "w1 = World(5,5)\n",
    "b1 = Bear(w1, (1,1))\n",
    "assert len(w1.biota()) == 1\n",
    "assert b1.location() == (1,1)"
   ]
  },
  {
   "cell_type": "code",
   "execution_count": 59,
   "metadata": {
    "collapsed": false,
    "deletable": false,
    "editable": true,
    "nbgrader": {
     "checksum": "a93e64b15a61595e7c1320ed220d3f8f",
     "grade": true,
     "grade_id": "bear_test_2",
     "locked": true,
     "points": 2,
     "solution": false
    },
    "scrolled": true
   },
   "outputs": [],
   "source": [
    "# Repeat the reproduction test for Bears\n",
    "w2 = World(5,5)\n",
    "Bear.breed_interval = 1\n",
    "b2 = Bear(w2, (2,2))\n",
    "b2.live()\n",
    "assert len(w2.biota()) == 2\n",
    "Bear.breed_interval = 8"
   ]
  },
  {
   "cell_type": "code",
   "execution_count": 60,
   "metadata": {
    "collapsed": false,
    "deletable": false,
    "editable": true,
    "nbgrader": {
     "checksum": "9d958002c67155af5e43ba85a1b35fdc",
     "grade": true,
     "grade_id": "bear_test_3",
     "locked": true,
     "points": 2,
     "solution": false
    }
   },
   "outputs": [],
   "source": [
    "# Make fish for the bear to eat, count the number of objects after eating\n",
    "w3 = World(5,5)\n",
    "b3 = Bear(w3, (2,2))\n",
    "Fish(w3, (1,1))\n",
    "Fish(w3, (3,3))\n",
    "b3.live()\n",
    "assert len(w2.biota()) == 2"
   ]
  },
  {
   "cell_type": "code",
   "execution_count": 61,
   "metadata": {
    "collapsed": false,
    "deletable": false,
    "editable": true,
    "nbgrader": {
     "checksum": "0fedaf56b553ec43860c883ddf1cf6bb",
     "grade": true,
     "grade_id": "bear_test_4",
     "locked": true,
     "points": 2,
     "solution": false
    }
   },
   "outputs": [
    {
     "ename": "AssertionError",
     "evalue": "",
     "output_type": "error",
     "traceback": [
      "\u001b[0;31m---------------------------------------------------------------------------\u001b[0m",
      "\u001b[0;31mAssertionError\u001b[0m                            Traceback (most recent call last)",
      "\u001b[0;32m<ipython-input-61-22a43f96fcb0>\u001b[0m in \u001b[0;36m<module>\u001b[0;34m()\u001b[0m\n\u001b[1;32m      4\u001b[0m \u001b[0mb4\u001b[0m \u001b[1;33m=\u001b[0m \u001b[0mBear\u001b[0m\u001b[1;33m(\u001b[0m\u001b[0mw4\u001b[0m\u001b[1;33m,\u001b[0m \u001b[1;33m(\u001b[0m\u001b[1;36m2\u001b[0m\u001b[1;33m,\u001b[0m\u001b[1;36m2\u001b[0m\u001b[1;33m)\u001b[0m\u001b[1;33m)\u001b[0m\u001b[1;33m\u001b[0m\u001b[0m\n\u001b[1;32m      5\u001b[0m \u001b[0mb4\u001b[0m\u001b[1;33m.\u001b[0m\u001b[0mlive\u001b[0m\u001b[1;33m(\u001b[0m\u001b[1;33m)\u001b[0m\u001b[1;33m\u001b[0m\u001b[0m\n\u001b[0;32m----> 6\u001b[0;31m \u001b[1;32massert\u001b[0m \u001b[0mlen\u001b[0m\u001b[1;33m(\u001b[0m\u001b[0mw4\u001b[0m\u001b[1;33m.\u001b[0m\u001b[0mbiota\u001b[0m\u001b[1;33m(\u001b[0m\u001b[1;33m)\u001b[0m\u001b[1;33m)\u001b[0m \u001b[1;33m==\u001b[0m \u001b[1;36m0\u001b[0m\u001b[1;33m\u001b[0m\u001b[0m\n\u001b[0m",
      "\u001b[0;31mAssertionError\u001b[0m: "
     ]
    }
   ],
   "source": [
    "# Setting the survival limit to 1 should cause a Bear to starve \n",
    "w4 = World(5,5)\n",
    "Bear.survive_without_food = 1\n",
    "b4 = Bear(w4, (2,2))\n",
    "b4.live()\n",
    "assert len(w4.biota()) == 0"
   ]
  },
  {
   "cell_type": "code",
   "execution_count": 77,
   "metadata": {
    "collapsed": true
   },
   "outputs": [],
   "source": [
    "Bear.survive_without_food = 10"
   ]
  },
  {
   "cell_type": "code",
   "execution_count": 78,
   "metadata": {
    "collapsed": false,
    "deletable": false,
    "editable": true,
    "nbgrader": {
     "checksum": "74f0e9c757408b2f460fd4c45b260cbe",
     "grade": true,
     "grade_id": "bear_test_5",
     "locked": true,
     "points": 2,
     "solution": false
    }
   },
   "outputs": [],
   "source": [
    "# Repeat the move test for bears\n",
    "w5 = World(5,5)\n",
    "b5 = Bear(w5, (2,2))\n",
    "b5.move()\n",
    "r, c = b5.location()\n",
    "assert (r,c) != (2,2)\n",
    "assert abs(r-2) <= 1 and abs(c-2) <= 1"
   ]
  },
  {
   "cell_type": "markdown",
   "metadata": {
    "collapsed": true,
    "deletable": true,
    "editable": true
   },
   "source": [
    "##  <span style=\"color:teal;\">The `wbf` Function (10 points)</span>"
   ]
  },
  {
   "cell_type": "markdown",
   "metadata": {
    "deletable": true,
    "editable": true
   },
   "source": [
    "Fill in the body of the `wbf` function so it returns a new World object with the specified number of rows and columns and with the specified number of Bear and Fish objects at random locations.\n",
    "\n",
    "When we grade your project we will call `wbf` to make a World object and then use the main loop (implemented by `step_system`) to run the simulation.\n",
    "\n",
    "**There is no documentation requirement for the `wbf` function.**"
   ]
  },
  {
   "cell_type": "code",
   "execution_count": 6,
   "metadata": {
    "collapsed": false,
    "deletable": false,
    "editable": true,
    "nbgrader": {
     "checksum": "6a1fa83ecd382a94da88d5ff79a91af4",
     "grade": true,
     "grade_id": "wbf",
     "locked": false,
     "points": 5,
     "solution": true
    }
   },
   "outputs": [],
   "source": [
    "def wbf(nrows, ncols, nbears, nfish):\n",
    "    '''\n",
    "    Return a new World object with the specified number of Bear and Fish objects.\n",
    "    '''\n",
    "    w = World(nrows, ncols)\n",
    "    \n",
    "    for animal in range(nfish):\n",
    "        x = random.randint(0, nrows-1)\n",
    "        y = random.randint(0, ncols-1)\n",
    "        tup = x,y\n",
    "        if w.who(tup) == None: #checks if the square is empty\n",
    "            w.insert(Fish(w,tup))\n",
    "        else: #if the square is not1, puts the animal in an adjacent spcae\n",
    "            c = random.randint(-1, 0)\n",
    "            v = random.randint(-1, 0)\n",
    "            tup = (x+c,y+v)\n",
    "            w.insert(Fish(w,tup))\n",
    "                \n",
    "    for animal in range(nbears):\n",
    "        x = random.randint(0, nrows-1)\n",
    "        y = random.randint(0, ncols-1)\n",
    "        tup = x,y\n",
    "        if w.who(tup) == None: #checks if the square is empty\n",
    "            w.insert(Bear(w,tup))\n",
    "        else: #if the square is not, puts the animal in an adjacent spcae\n",
    "            c = random.randint(-1, 0)\n",
    "            v = random.randint(-1, 0)\n",
    "            tup = (x+c,y+v)\n",
    "            w.insert(Bear(w,tup))\n",
    "        \n",
    "    if len(w.biota()) != (nfish + nbears): #fixed an ednge case where griddit would do wrong things\n",
    "        wbf(nrows, ncols, nbears, nfish)\n",
    "        \n",
    "    return w"
   ]
  },
  {
   "cell_type": "markdown",
   "metadata": {
    "deletable": true,
    "editable": true
   },
   "source": [
    "##### <span style=\"color:red\">Autograder Tests:</span>"
   ]
  },
  {
   "cell_type": "markdown",
   "metadata": {
    "deletable": true,
    "editable": true
   },
   "source": [
    "**Important:** &nbsp;  the code cells in this section will be used by `nbgrader` to run automated tests.  Do not move, delete or alter these cells in any way."
   ]
  },
  {
   "cell_type": "code",
   "execution_count": 80,
   "metadata": {
    "collapsed": false,
    "deletable": false,
    "editable": true,
    "nbgrader": {
     "checksum": "492deed158bde5b6474970e982aa60fe",
     "grade": true,
     "grade_id": "wbf_test",
     "locked": true,
     "points": 5,
     "solution": false
    }
   },
   "outputs": [],
   "source": [
    "w = wbf(10,10,3,12)\n",
    "\n",
    "dct = { Bear: 0, Fish: 0 }\n",
    "for x in w.biota():\n",
    "    dct[x.__class__] += 1\n",
    "\n",
    "assert dct[Bear] == 3\n",
    "assert dct[Fish] == 12"
   ]
  },
  {
   "cell_type": "markdown",
   "metadata": {
    "collapsed": true,
    "deletable": true,
    "editable": true
   },
   "source": [
    "##  <span style=\"color:teal;\">The `step_system` Function</span>"
   ]
  },
  {
   "cell_type": "markdown",
   "metadata": {
    "deletable": true,
    "editable": true
   },
   "source": [
    "We've written this function for you.  It will run a single time step of the simulation.  Pass it a World object containing a grid populated with Bear and Fish objects and it will (a) see which animals survive, then (b) allow all the animals to move to a new location."
   ]
  },
  {
   "cell_type": "code",
   "execution_count": 7,
   "metadata": {
    "collapsed": true,
    "deletable": true,
    "editable": true
   },
   "outputs": [],
   "source": [
    "def step_system(world):\n",
    "    for x in world.biota():\n",
    "        x.live()\n",
    "    for x in world.biota():\n",
    "        x.move()"
   ]
  },
  {
   "cell_type": "code",
   "execution_count": 12,
   "metadata": {
    "collapsed": false
   },
   "outputs": [
    {
     "name": "stdout",
     "output_type": "stream",
     "text": [
      "[[None 🐟 None 🐟 None None None None None None]\n",
      " [None None None None None None None None None None]\n",
      " [None None None None None None None None None None]\n",
      " [None None None 🐟 None None None None None None]\n",
      " [None None None None None None None None None None]\n",
      " [None None None None None 🐟 None 🐻 None 🐟]\n",
      " [None 🐻 None None None None None None None None]\n",
      " [None None None 🐟 None None None None 🐻 None]\n",
      " [None None None None 🐟 None None None None None]\n",
      " [None None None None None None 🐻 None None None]] \n",
      "\n",
      "[[None None None None None None None None None None]\n",
      " [None None None None 🐟 None None 🐻 None None]\n",
      " [None None 🐟 None None None None None None 🐻]\n",
      " [None None None None None None None None None None]\n",
      " [None None None None None None None 🐟 None None]\n",
      " [None None None None None None None None None None]\n",
      " [None None None 🐻 None None None None None None]\n",
      " [None None None None None None None None None None]\n",
      " [None 🐻 None 🐟 None None None None None None]\n",
      " [None None None None None None None None None None]]\n",
      "[🐟, 🐻, 🐟, 🐻, 🐟, 🐻, 🐻, 🐟]\n"
     ]
    }
   ],
   "source": [
    "x = wbf(10, 10, 5, 7)\n",
    "print(x.represent(), '\\n')\n",
    "for i in range(5):\n",
    "    step_system(x)\n",
    "print(x.represent())\n",
    "print(x.biota())"
   ]
  },
  {
   "cell_type": "markdown",
   "metadata": {
    "collapsed": true,
    "deletable": true,
    "editable": true
   },
   "source": [
    "##  <span style=\"color:teal;\">Experiments (10 points)</span>"
   ]
  },
  {
   "cell_type": "markdown",
   "metadata": {
    "deletable": true,
    "editable": true
   },
   "source": [
    "Run some experiments with the top level simulation loop and describe the results in the markdown cell below.  Some ideas of things to try:\n",
    "* The settings for the Bear class `breed_interval` and `survive_without_food` variables come from the textbook.  Will the world ever run out of bears with these settings?\n",
    "* Change the settings so `Bear.breed_interval` is larger than `Bear.survive_without_food`.  How does that change the outcome?\n",
    "* Set the `breed_interval` counter for the Fish class to a smaller number (e.g. 4) so the world has more fish.  What effect does that have?\n",
    "* Write a function that runs the simulation for a specified number of generations, or until there are no more objects left in the grid.  What combination of parameters leads to the largest number of time steps before the simulation halts?"
   ]
  },
  {
   "cell_type": "markdown",
   "metadata": {
    "collapsed": true,
    "deletable": false,
    "editable": true,
    "nbgrader": {
     "checksum": "cc54d46b405cd1c694c7a930f2ede888",
     "grade": true,
     "grade_id": "experiments",
     "locked": false,
     "points": 10,
     "solution": true
    }
   },
   "source": [
    "YOUR DOCUMENTATION HERE"
   ]
  },
  {
   "cell_type": "markdown",
   "metadata": {
    "collapsed": true,
    "deletable": true,
    "editable": true
   },
   "source": [
    "##  <span style=\"color:teal;\">Projects for Groups and/or Extra Credit</span>"
   ]
  },
  {
   "cell_type": "markdown",
   "metadata": {
    "deletable": true,
    "editable": true
   },
   "source": [
    "Here are some suggestions for ways to extend the simulation.  We will consider other types of extensions -- send a request to `conery@uoregon.edu` with your proposal.\n",
    "\n",
    "Groups with three people should implement two extensions.  Groups with two people can choose either extension, or do both for extra credit.\n",
    "\n",
    "* Implement the Plant class described in Section 10.7 of the textbook, and modify the Fish class so fish eat plants and die if they don't find enough food.\n",
    "\n",
    "* If you implement Plant, how does that affect the class hierarchy?  Is there an even more general class called Organism, with Plants and Animals subtypes of organism?\n",
    "\n",
    "* Experiment with data structures: make a second version of the World class, but use a list-of-lists approach to making the grid.  Which is more efficient, a list of lists or a numpy array?  Which scales better when larger worlds are used in the simulation?\n",
    "\n",
    "* Implement a GUI using `tkinter` that is similar to the Solar System GUI.  A canvas should display the world along with images for the Bear and Fish objects (you can download `Bear.gif` and `Fish.gif` from Canvas).  Use a spinbox or text entry box to specify the number of Bear and Fish objects and the number of time steps to run.  Include a Run button to start the simulation.\n"
   ]
  }
 ],
 "metadata": {
  "anaconda-cloud": {},
  "kernelspec": {
   "display_name": "Python [default]",
   "language": "python",
   "name": "python3"
  },
  "language_info": {
   "codemirror_mode": {
    "name": "ipython",
    "version": 3
   },
   "file_extension": ".py",
   "mimetype": "text/x-python",
   "name": "python",
   "nbconvert_exporter": "python",
   "pygments_lexer": "ipython3",
   "version": "3.5.2"
  }
 },
 "nbformat": 4,
 "nbformat_minor": 0
}
