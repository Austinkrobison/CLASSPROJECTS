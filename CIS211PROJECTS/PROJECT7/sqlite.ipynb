{
 "cells": [
  {
   "cell_type": "markdown",
   "metadata": {
    "deletable": true,
    "editable": true
   },
   "source": [
    "# <span style=\"color:teal;\">CIS 211 Project 7:  SQLite</span>"
   ]
  },
  {
   "cell_type": "markdown",
   "metadata": {
    "deletable": true,
    "editable": true
   },
   "source": [
    "##### Due 11:00 P.M. Tuesday Mar 7"
   ]
  },
  {
   "cell_type": "markdown",
   "metadata": {
    "deletable": true,
    "editable": true
   },
   "source": [
    "This project will give you some experience writing database queries in SQL and connecting to a SQLite database from Python."
   ]
  },
  {
   "cell_type": "markdown",
   "metadata": {
    "deletable": true,
    "editable": true
   },
   "source": [
    "### <span style=\"color:teal\">Setup</span>"
   ]
  },
  {
   "cell_type": "markdown",
   "metadata": {
    "deletable": true,
    "editable": true
   },
   "source": [
    "Download the Sakila database (the file named `sakila211.db`) and move it to the same folder as this IPython notebook."
   ]
  },
  {
   "cell_type": "markdown",
   "metadata": {
    "deletable": true,
    "editable": true
   },
   "source": [
    "### <span style=\"color:teal\">Executing Queries in an IPython Notebook</span>"
   ]
  },
  {
   "cell_type": "markdown",
   "metadata": {
    "deletable": true,
    "editable": true
   },
   "source": [
    "To solve the problems in the first two sections of this project you need to write a SQL query based on the tables in the Sakila211 database.  \n",
    "\n",
    "To execute a query from an IPython Notebook write the query in quotes as part of a shell command:\n",
    "```\n",
    "! sqlite3 sakila211.db \"...\"\n",
    "```\n",
    "\n",
    "For example, to answer the question \"What are the names and ratings of the films\" your code cell would have\n",
    "```\n",
    "! sqlite3 sakila211.db \"select title, rating from film\"\n",
    "```\n",
    "\n",
    "Some of the queries will produce a lot of output.  You can add a `LIMIT` clause to any query if you want to reduce the size of the output."
   ]
  },
  {
   "cell_type": "markdown",
   "metadata": {
    "deletable": true,
    "editable": true
   },
   "source": [
    "**Note:** &nbsp; Your grade will not depend on the output format.  If want to have a nicer looking output that includes column headers create a file named `.sqliterc` in your home folder and add these two lines:\n",
    "```\n",
    ".header on\n",
    ".mode column\n",
    "```"
   ]
  },
  {
   "cell_type": "markdown",
   "metadata": {
    "deletable": true,
    "editable": true
   },
   "source": [
    "## <span style=\"color:teal\">Part 1:  &nbsp; Queries</span>"
   ]
  },
  {
   "cell_type": "markdown",
   "metadata": {
    "deletable": true,
    "editable": true
   },
   "source": [
    "The following questions can all be answered using records from a single table."
   ]
  },
  {
   "cell_type": "markdown",
   "metadata": {
    "deletable": true,
    "editable": true
   },
   "source": [
    "(1) What are the first and last names of all the customers?"
   ]
  },
  {
   "cell_type": "code",
   "execution_count": 2,
   "metadata": {
    "collapsed": false,
    "deletable": false,
    "editable": true,
    "nbgrader": {
     "checksum": "91ee3c877c70f8544f5ce07e910194bf",
     "grade": true,
     "grade_id": "query_1",
     "locked": false,
     "points": 2,
     "solution": true
    }
   },
   "outputs": [
    {
     "name": "stdout",
     "output_type": "stream",
     "text": [
      "Mary|Smith\n",
      "Patricia|Johnson\n",
      "Linda|Williams\n",
      "Barbara|Jones\n",
      "Elizabeth|Brown\n",
      "Jennifer|Davis\n",
      "Maria|Miller\n",
      "Susan|Wilson\n",
      "Margaret|Moore\n",
      "Dorothy|Taylor\n",
      "Lisa|Anderson\n",
      "Nancy|Thomas\n",
      "Karen|Jackson\n",
      "Betty|White\n",
      "Helen|Harris\n",
      "Sandra|Martin\n",
      "Donna|Thompson\n",
      "Carol|Garcia\n",
      "Ruth|Martinez\n",
      "Sharon|Robinson\n",
      "Michelle|Clark\n",
      "Laura|Rodriguez\n",
      "Sarah|Lewis\n",
      "Kimberly|Lee\n",
      "Deborah|Walker\n",
      "Jessica|Hall\n",
      "Shirley|Allen\n",
      "Cynthia|Young\n",
      "Angela|Hernandez\n",
      "Melissa|King\n",
      "Brenda|Wright\n",
      "Amy|Lopez\n",
      "Anna|Hill\n",
      "Rebecca|Scott\n",
      "Virginia|Green\n",
      "Kathleen|Adams\n",
      "Pamela|Baker\n",
      "Martha|Gonzalez\n",
      "Debra|Nelson\n",
      "Amanda|Carter\n",
      "Stephanie|Mitchell\n",
      "Carolyn|Perez\n",
      "Christine|Roberts\n",
      "Marie|Turner\n",
      "Janet|Phillips\n",
      "Catherine|Campbell\n",
      "Frances|Parker\n",
      "Ann|Evans\n",
      "Joyce|Edwards\n",
      "Diane|Collins\n",
      "Alice|Stewart\n",
      "Julie|Sanchez\n",
      "Heather|Morris\n",
      "Teresa|Rogers\n",
      "Doris|Reed\n",
      "Gloria|Cook\n",
      "Evelyn|Morgan\n",
      "Jean|Bell\n",
      "Cheryl|Murphy\n",
      "Mildred|Bailey\n",
      "Katherine|Rivera\n",
      "Joan|Cooper\n",
      "Ashley|Richardson\n",
      "Judith|Cox\n",
      "Rose|Howard\n",
      "Janice|Ward\n",
      "Kelly|Torres\n",
      "Nicole|Peterson\n",
      "Judy|Gray\n",
      "Christina|Ramirez\n",
      "Kathy|James\n",
      "Theresa|Watson\n",
      "Beverly|Brooks\n",
      "Denise|Kelly\n",
      "Tammy|Sanders\n",
      "Irene|Price\n",
      "Jane|Bennett\n",
      "Lori|Wood\n",
      "Rachel|Barnes\n",
      "Marilyn|Ross\n",
      "Andrea|Henderson\n",
      "Kathryn|Coleman\n",
      "Louise|Jenkins\n",
      "Sara|Perry\n",
      "Anne|Powell\n",
      "Jacqueline|Long\n",
      "Wanda|Patterson\n",
      "Bonnie|Hughes\n",
      "Julia|Flores\n",
      "Ruby|Washington\n",
      "Lois|Butler\n",
      "Tina|Simmons\n",
      "Phyllis|Foster\n",
      "Norma|Gonzales\n",
      "Paula|Bryant\n",
      "Diana|Alexander\n",
      "Annie|Russell\n",
      "Lillian|Griffin\n",
      "Emily|Diaz\n",
      "Robin|Hayes\n",
      "Peggy|Myers\n",
      "Crystal|Ford\n",
      "Gladys|Hamilton\n",
      "Rita|Graham\n",
      "Dawn|Sullivan\n",
      "Connie|Wallace\n",
      "Florence|Woods\n",
      "Tracy|Cole\n",
      "Edna|West\n",
      "Tiffany|Jordan\n",
      "Carmen|Owens\n",
      "Rosa|Reynolds\n",
      "Cindy|Fisher\n",
      "Grace|Ellis\n",
      "Wendy|Harrison\n",
      "Victoria|Gibson\n",
      "Edith|Mcdonald\n",
      "Kim|Cruz\n",
      "Sherry|Marshall\n",
      "Sylvia|Ortiz\n",
      "Josephine|Gomez\n",
      "Thelma|Murray\n",
      "Shannon|Freeman\n",
      "Sheila|Wells\n",
      "Ethel|Webb\n",
      "Ellen|Simpson\n",
      "Elaine|Stevens\n",
      "Marjorie|Tucker\n",
      "Carrie|Porter\n",
      "Charlotte|Hunter\n",
      "Monica|Hicks\n",
      "Esther|Crawford\n",
      "Pauline|Henry\n",
      "Emma|Boyd\n",
      "Juanita|Mason\n",
      "Anita|Morales\n",
      "Rhonda|Kennedy\n",
      "Hazel|Warren\n",
      "Amber|Dixon\n",
      "Eva|Ramos\n",
      "Debbie|Reyes\n",
      "April|Burns\n",
      "Leslie|Gordon\n",
      "Clara|Shaw\n",
      "Lucille|Holmes\n",
      "Jamie|Rice\n",
      "Joanne|Robertson\n",
      "Eleanor|Hunt\n",
      "Valerie|Black\n",
      "Danielle|Daniels\n",
      "Megan|Palmer\n",
      "Alicia|Mills\n",
      "Suzanne|Nichols\n",
      "Michele|Grant\n",
      "Gail|Knight\n",
      "Bertha|Ferguson\n",
      "Darlene|Rose\n",
      "Veronica|Stone\n",
      "Jill|Hawkins\n",
      "Erin|Dunn\n",
      "Geraldine|Perkins\n",
      "Lauren|Hudson\n",
      "Cathy|Spencer\n",
      "Joann|Gardner\n",
      "Lorraine|Stephens\n",
      "Lynn|Payne\n",
      "Sally|Pierce\n",
      "Regina|Berry\n",
      "Erica|Matthews\n",
      "Beatrice|Arnold\n",
      "Dolores|Wagner\n",
      "Bernice|Willis\n",
      "Audrey|Ray\n",
      "Yvonne|Watkins\n",
      "Annette|Olson\n",
      "June|Carroll\n",
      "Samantha|Duncan\n",
      "Marion|Snyder\n",
      "Dana|Hart\n",
      "Stacy|Cunningham\n",
      "Ana|Bradley\n",
      "Renee|Lane\n",
      "Ida|Andrews\n",
      "Vivian|Ruiz\n",
      "Roberta|Harper\n",
      "Holly|Fox\n",
      "Brittany|Riley\n",
      "Melanie|Armstrong\n",
      "Loretta|Carpenter\n",
      "Yolanda|Weaver\n",
      "Jeanette|Greene\n",
      "Laurie|Lawrence\n",
      "Katie|Elliott\n",
      "Kristen|Chavez\n",
      "Vanessa|Sims\n",
      "Alma|Austin\n",
      "Sue|Peters\n",
      "Elsie|Kelley\n",
      "Beth|Franklin\n",
      "Jeanne|Lawson\n",
      "Vicki|Fields\n",
      "Carla|Gutierrez\n",
      "Tara|Ryan\n",
      "Rosemary|Schmidt\n",
      "Eileen|Carr\n",
      "Terri|Vasquez\n",
      "Gertrude|Castillo\n",
      "Lucy|Wheeler\n",
      "Tonya|Chapman\n",
      "Ella|Oliver\n",
      "Stacey|Montgomery\n",
      "Wilma|Richards\n",
      "Gina|Williamson\n",
      "Kristin|Johnston\n",
      "Jessie|Banks\n",
      "Natalie|Meyer\n",
      "Agnes|Bishop\n",
      "Vera|Mccoy\n",
      "Willie|Howell\n",
      "Charlene|Alvarez\n",
      "Bessie|Morrison\n",
      "Delores|Hansen\n",
      "Melinda|Fernandez\n",
      "Pearl|Garza\n",
      "Arlene|Harvey\n",
      "Maureen|Little\n",
      "Colleen|Burton\n",
      "Allison|Stanley\n",
      "Tamara|Nguyen\n",
      "Joy|George\n",
      "Georgia|Jacobs\n",
      "Constance|Reid\n",
      "Lillie|Kim\n",
      "Claudia|Fuller\n",
      "Jackie|Lynch\n",
      "Marcia|Dean\n",
      "Tanya|Gilbert\n",
      "Nellie|Garrett\n",
      "Minnie|Romero\n",
      "Marlene|Welch\n",
      "Heidi|Larson\n",
      "Glenda|Frazier\n",
      "Lydia|Burke\n",
      "Viola|Hanson\n",
      "Courtney|Day\n",
      "Marian|Mendoza\n",
      "Stella|Moreno\n",
      "Caroline|Bowman\n",
      "Dora|Medina\n",
      "Jo|Fowler\n",
      "Vickie|Brewer\n",
      "Mattie|Hoffman\n",
      "Terry|Carlson\n",
      "Maxine|Silva\n",
      "Irma|Pearson\n",
      "Mabel|Holland\n",
      "Marsha|Douglas\n",
      "Myrtle|Fleming\n",
      "Lena|Jensen\n",
      "Christy|Vargas\n",
      "Deanna|Byrd\n",
      "Patsy|Davidson\n",
      "Hilda|Hopkins\n",
      "Gwendolyn|May\n",
      "Jennie|Terry\n",
      "Nora|Herrera\n",
      "Margie|Wade\n",
      "Nina|Soto\n",
      "Cassandra|Walters\n",
      "Leah|Curtis\n",
      "Penny|Neal\n",
      "Kay|Caldwell\n",
      "Priscilla|Lowe\n",
      "Naomi|Jennings\n",
      "Carole|Barnett\n",
      "Brandy|Graves\n",
      "Olga|Jimenez\n",
      "Billie|Horton\n",
      "Dianne|Shelton\n",
      "Tracey|Barrett\n",
      "Leona|Obrien\n",
      "Jenny|Castro\n",
      "Felicia|Sutton\n",
      "Sonia|Gregory\n",
      "Miriam|Mckinney\n",
      "Velma|Lucas\n",
      "Becky|Miles\n",
      "Bobbie|Craig\n",
      "Violet|Rodriquez\n",
      "Kristina|Chambers\n",
      "Toni|Holt\n",
      "Misty|Lambert\n",
      "Mae|Fletcher\n",
      "Shelly|Watts\n",
      "Daisy|Bates\n",
      "Ramona|Hale\n",
      "Sherri|Rhodes\n",
      "Erika|Pena\n",
      "James|Gannon\n",
      "John|Farnsworth\n",
      "Robert|Baughman\n",
      "Michael|Silverman\n",
      "William|Satterfield\n",
      "David|Royal\n",
      "Richard|Mccrary\n",
      "Charles|Kowalski\n",
      "Joseph|Joy\n",
      "Thomas|Grigsby\n",
      "Christopher|Greco\n",
      "Daniel|Cabral\n",
      "Paul|Trout\n",
      "Mark|Rinehart\n",
      "Donald|Mahon\n",
      "George|Linton\n",
      "Kenneth|Gooden\n",
      "Steven|Curley\n",
      "Edward|Baugh\n",
      "Brian|Wyman\n",
      "Ronald|Weiner\n",
      "Anthony|Schwab\n",
      "Kevin|Schuler\n",
      "Jason|Morrissey\n",
      "Matthew|Mahan\n",
      "Gary|Coy\n",
      "Timothy|Bunn\n",
      "Jose|Andrew\n",
      "Larry|Thrasher\n",
      "Jeffrey|Spear\n",
      "Frank|Waggoner\n",
      "Scott|Shelley\n",
      "Eric|Robert\n",
      "Stephen|Qualls\n",
      "Andrew|Purdy\n",
      "Raymond|Mcwhorter\n",
      "Gregory|Mauldin\n",
      "Joshua|Mark\n",
      "Jerry|Jordon\n",
      "Dennis|Gilman\n",
      "Walter|Perryman\n",
      "Patrick|Newsom\n",
      "Peter|Menard\n",
      "Harold|Martino\n",
      "Douglas|Graf\n",
      "Henry|Billingsley\n",
      "Carl|Artis\n",
      "Arthur|Simpkins\n",
      "Ryan|Salisbury\n",
      "Roger|Quintanilla\n",
      "Joe|Gilliland\n",
      "Juan|Fraley\n",
      "Jack|Foust\n",
      "Albert|Crouse\n",
      "Jonathan|Scarborough\n",
      "Justin|Ngo\n",
      "Terry|Grissom\n",
      "Gerald|Fultz\n",
      "Keith|Rico\n",
      "Samuel|Marlow\n",
      "Willie|Markham\n",
      "Ralph|Madrigal\n",
      "Lawrence|Lawton\n",
      "Nicholas|Barfield\n",
      "Roy|Whiting\n",
      "Benjamin|Varney\n",
      "Bruce|Schwarz\n",
      "Brandon|Huey\n",
      "Adam|Gooch\n",
      "Harry|Arce\n",
      "Fred|Wheat\n",
      "Wayne|Truong\n",
      "Billy|Poulin\n",
      "Steve|Mackenzie\n",
      "Louis|Leone\n",
      "Jeremy|Hurtado\n",
      "Aaron|Selby\n",
      "Randy|Gaither\n",
      "Howard|Fortner\n",
      "Eugene|Culpepper\n",
      "Carlos|Coughlin\n",
      "Russell|Brinson\n",
      "Bobby|Boudreau\n",
      "Victor|Barkley\n",
      "Martin|Bales\n",
      "Ernest|Stepp\n",
      "Phillip|Holm\n",
      "Todd|Tan\n",
      "Jesse|Schilling\n",
      "Craig|Morrell\n",
      "Alan|Kahn\n",
      "Shawn|Heaton\n",
      "Clarence|Gamez\n",
      "Sean|Douglass\n",
      "Philip|Causey\n",
      "Chris|Brothers\n",
      "Johnny|Turpin\n",
      "Earl|Shanks\n",
      "Jimmy|Schrader\n",
      "Antonio|Meek\n",
      "Danny|Isom\n",
      "Bryan|Hardison\n",
      "Tony|Carranza\n",
      "Luis|Yanez\n",
      "Mike|Way\n",
      "Stanley|Scroggins\n",
      "Leonard|Schofield\n",
      "Nathan|Runyon\n",
      "Dale|Ratcliff\n",
      "Manuel|Murrell\n",
      "Rodney|Moeller\n",
      "Curtis|Irby\n",
      "Norman|Currier\n",
      "Allen|Butterfield\n",
      "Marvin|Yee\n",
      "Vincent|Ralston\n",
      "Glenn|Pullen\n",
      "Jeffery|Pinson\n",
      "Travis|Estep\n",
      "Jeff|East\n",
      "Chad|Carbone\n",
      "Jacob|Lance\n",
      "Lee|Hawks\n",
      "Melvin|Ellington\n",
      "Alfred|Casillas\n",
      "Kyle|Spurlock\n",
      "Francis|Sikes\n",
      "Bradley|Motley\n",
      "Jesus|Mccartney\n",
      "Herbert|Kruger\n",
      "Frederick|Isbell\n",
      "Ray|Houle\n",
      "Joel|Francisco\n",
      "Edwin|Burk\n",
      "Don|Bone\n",
      "Eddie|Tomlin\n",
      "Ricky|Shelby\n",
      "Troy|Quigley\n",
      "Randall|Neumann\n",
      "Barry|Lovelace\n",
      "Alexander|Fennell\n",
      "Bernard|Colby\n",
      "Mario|Cheatham\n",
      "Leroy|Bustamante\n",
      "Francisco|Skidmore\n",
      "Marcus|Hidalgo\n",
      "Micheal|Forman\n",
      "Theodore|Culp\n",
      "Clifford|Bowens\n",
      "Miguel|Betancourt\n",
      "Oscar|Aquino\n",
      "Jay|Robb\n",
      "Jim|Rea\n",
      "Tom|Milner\n",
      "Calvin|Martel\n",
      "Alex|Gresham\n",
      "Jon|Wiles\n",
      "Ronnie|Ricketts\n",
      "Bill|Gavin\n",
      "Lloyd|Dowd\n",
      "Tommy|Collazo\n",
      "Leon|Bostic\n",
      "Derek|Blakely\n",
      "Warren|Sherrod\n",
      "Darrell|Power\n",
      "Jerome|Kenyon\n",
      "Floyd|Gandy\n",
      "Leo|Ebert\n",
      "Alvin|Deloach\n",
      "Tim|Cary\n",
      "Wesley|Bull\n",
      "Gordon|Allard\n",
      "Dean|Sauer\n",
      "Greg|Robins\n",
      "Jorge|Olivares\n",
      "Dustin|Gillette\n",
      "Pedro|Chestnut\n",
      "Derrick|Bourque\n",
      "Dan|Paine\n",
      "Lewis|Lyman\n",
      "Zachary|Hite\n",
      "Corey|Hauser\n",
      "Herman|Devore\n",
      "Maurice|Crawley\n",
      "Vernon|Chapa\n",
      "Roberto|Vu\n",
      "Clyde|Tobias\n",
      "Glen|Talbert\n",
      "Hector|Poindexter\n",
      "Shane|Millard\n",
      "Ricardo|Meador\n",
      "Sam|Mcduffie\n",
      "Rick|Mattox\n",
      "Lester|Kraus\n",
      "Brent|Harkins\n",
      "Ramon|Choate\n",
      "Charlie|Bess\n",
      "Tyler|Wren\n",
      "Gilbert|Sledge\n",
      "Gene|Sanborn\n",
      "Marc|Outlaw\n",
      "Reginald|Kinder\n",
      "Ruben|Geary\n",
      "Brett|Cornwell\n",
      "Angel|Barclay\n",
      "Nathaniel|Adam\n",
      "Rafael|Abney\n",
      "Leslie|Seward\n",
      "Edgar|Rhoads\n",
      "Milton|Howland\n",
      "Raul|Fortier\n",
      "Ben|Easter\n",
      "Chester|Benner\n",
      "Cecil|Vines\n",
      "Duane|Tubbs\n",
      "Franklin|Troutman\n",
      "Andre|Rapp\n",
      "Elmer|Noe\n",
      "Brad|Mccurdy\n",
      "Gabriel|Harder\n",
      "Ron|Deluca\n",
      "Mitchell|Westmoreland\n",
      "Roland|South\n",
      "Arnold|Havens\n",
      "Harvey|Guajardo\n",
      "Jared|Ely\n",
      "Adrian|Clary\n",
      "Karl|Seal\n",
      "Cory|Meehan\n",
      "Claude|Herzog\n",
      "Erik|Guillen\n",
      "Darryl|Ashcraft\n",
      "Jamie|Waugh\n",
      "Neil|Renner\n",
      "Jessie|Milam\n",
      "Christian|Jung\n",
      "Javier|Elrod\n",
      "Fernando|Churchill\n",
      "Clinton|Buford\n",
      "Ted|Breaux\n",
      "Mathew|Bolin\n",
      "Tyrone|Asher\n",
      "Darren|Windham\n",
      "Lonnie|Tirado\n",
      "Lance|Pemberton\n",
      "Cody|Nolen\n",
      "Julio|Noland\n",
      "Kelly|Knott\n",
      "Kurt|Emmons\n",
      "Allan|Cornish\n",
      "Nelson|Christenson\n",
      "Guy|Brownlee\n",
      "Clayton|Barbee\n",
      "Hugh|Waldrop\n",
      "Max|Pitt\n",
      "Dwayne|Olvera\n",
      "Dwight|Lombardi\n",
      "Armando|Gruber\n",
      "Felix|Gaffney\n",
      "Jimmie|Eggleston\n",
      "Everett|Banda\n",
      "Jordan|Archuleta\n",
      "Ian|Still\n",
      "Wallace|Slone\n",
      "Ken|Prewitt\n",
      "Bob|Pfeiffer\n",
      "Jaime|Nettles\n",
      "Casey|Mena\n",
      "Alfredo|Mcadams\n",
      "Alberto|Henning\n",
      "Dave|Gardiner\n",
      "Ivan|Cromwell\n",
      "Johnnie|Chisholm\n",
      "Sidney|Burleson\n",
      "Byron|Box\n",
      "Julian|Vest\n",
      "Isaac|Oglesby\n",
      "Morris|Mccarter\n",
      "Clifton|Malcolm\n",
      "Willard|Lumpkin\n",
      "Daryl|Larue\n",
      "Ross|Grey\n",
      "Virgil|Wofford\n",
      "Andy|Vanhorn\n",
      "Marshall|Thorn\n",
      "Salvador|Teel\n",
      "Perry|Swafford\n",
      "Kirk|Stclair\n",
      "Sergio|Stanfield\n",
      "Marion|Ocampo\n",
      "Tracy|Herrmann\n",
      "Seth|Hannon\n",
      "Kent|Arsenault\n",
      "Terrance|Roush\n",
      "Rene|Mcalister\n",
      "Eduardo|Hiatt\n",
      "Terrence|Gunderson\n",
      "Enrique|Forsythe\n",
      "Freddie|Duggan\n",
      "Wade|Delvalle\n",
      "Austin|Cintron\n"
     ]
    }
   ],
   "source": [
    "! sqlite3 -batch sakila211.db \"SELECT first_name, last_name FROM customer\""
   ]
  },
  {
   "cell_type": "markdown",
   "metadata": {
    "deletable": true,
    "editable": true
   },
   "source": [
    "(2) What are the e-mail addresses of customers whose first name is “Willard”?"
   ]
  },
  {
   "cell_type": "code",
   "execution_count": 3,
   "metadata": {
    "collapsed": false,
    "deletable": false,
    "editable": true,
    "nbgrader": {
     "checksum": "64e446ba985806fb04f9ef039fe65952",
     "grade": true,
     "grade_id": "query_2",
     "locked": false,
     "points": 2,
     "solution": true
    }
   },
   "outputs": [
    {
     "name": "stdout",
     "output_type": "stream",
     "text": [
      "willard.lumpkin@sakilacustomer.org\n"
     ]
    }
   ],
   "source": [
    "! sqlite3 -batch sakila211.db \"SELECT email FROM customer WHERE first_name LIKE '%Willard%'\""
   ]
  },
  {
   "cell_type": "markdown",
   "metadata": {
    "deletable": true,
    "editable": true
   },
   "source": [
    "(3) How many customers are there?"
   ]
  },
  {
   "cell_type": "code",
   "execution_count": 4,
   "metadata": {
    "collapsed": false,
    "deletable": false,
    "editable": true,
    "nbgrader": {
     "checksum": "6a4f0b6dde1ac7d790f97794e7783a42",
     "grade": true,
     "grade_id": "query_3",
     "locked": false,
     "points": 2,
     "solution": true
    }
   },
   "outputs": [
    {
     "name": "stdout",
     "output_type": "stream",
     "text": [
      "599\n"
     ]
    }
   ],
   "source": [
    "! sqlite3 -batch sakila211.db \"SELECT count(*) FROM customer\""
   ]
  },
  {
   "cell_type": "markdown",
   "metadata": {
    "deletable": true,
    "editable": true
   },
   "source": [
    "(4) How many customers shop at store number 1?"
   ]
  },
  {
   "cell_type": "code",
   "execution_count": 5,
   "metadata": {
    "collapsed": false,
    "deletable": false,
    "editable": true,
    "nbgrader": {
     "checksum": "f08fc7c6be8b740e600e483f045942fe",
     "grade": true,
     "grade_id": "query_4",
     "locked": false,
     "points": 2,
     "solution": true
    }
   },
   "outputs": [
    {
     "name": "stdout",
     "output_type": "stream",
     "text": [
      "326\n"
     ]
    }
   ],
   "source": [
    "! sqlite3 -batch sakila211.db \"SELECT count(*) FROM customer WHERE store_id=1\""
   ]
  },
  {
   "cell_type": "markdown",
   "metadata": {
    "deletable": true,
    "editable": true
   },
   "source": [
    "(5) How much does it cost to rent the film named “Virtual Spoilers”?"
   ]
  },
  {
   "cell_type": "code",
   "execution_count": 6,
   "metadata": {
    "collapsed": false,
    "deletable": false,
    "editable": true,
    "nbgrader": {
     "checksum": "3d0a2eff95a0c91e3972df7cffcc5cde",
     "grade": true,
     "grade_id": "query_5",
     "locked": false,
     "points": 2,
     "solution": true
    }
   },
   "outputs": [
    {
     "name": "stdout",
     "output_type": "stream",
     "text": [
      "4.99\n"
     ]
    }
   ],
   "source": [
    "! sqlite3 -batch sakila211.db \"SELECT rental_rate FROM film WHERE title='Virtual Spoilers'\""
   ]
  },
  {
   "cell_type": "markdown",
   "metadata": {
    "deletable": true,
    "editable": true
   },
   "source": [
    "(6) Do any films have the word “Princess” in the title?"
   ]
  },
  {
   "cell_type": "code",
   "execution_count": 9,
   "metadata": {
    "collapsed": false,
    "deletable": false,
    "editable": true,
    "nbgrader": {
     "checksum": "32aac141a11a289bcdf659acc75988ca",
     "grade": true,
     "grade_id": "query_6",
     "locked": false,
     "points": 2,
     "solution": true
    },
    "scrolled": true
   },
   "outputs": [
    {
     "name": "stdout",
     "output_type": "stream",
     "text": [
      "0\n"
     ]
    }
   ],
   "source": [
    "! sqlite3 -batch sakila211.db \"SELECT count(*) FROM film WHERE title LIKE 'Princess'\""
   ]
  },
  {
   "cell_type": "markdown",
   "metadata": {
    "deletable": true,
    "editable": true
   },
   "source": [
    "(7) What are the titles of the films that are longer than 180 minutes?"
   ]
  },
  {
   "cell_type": "code",
   "execution_count": 11,
   "metadata": {
    "collapsed": false,
    "deletable": false,
    "editable": true,
    "nbgrader": {
     "checksum": "a56541c60971ed0218521fde895de3af",
     "grade": true,
     "grade_id": "query_7",
     "locked": false,
     "points": 2,
     "solution": true
    }
   },
   "outputs": [
    {
     "name": "stdout",
     "output_type": "stream",
     "text": [
      "Analyze Hoosiers\n",
      "Baked Cleopatra\n",
      "Catch Amistad\n",
      "Chicago North\n",
      "Conspiracy Spirit\n",
      "Control Anthem\n",
      "Crystal Breaking\n",
      "Darn Forrester\n",
      "Frontier Cabin\n",
      "Gangs Pride\n",
      "Haunting Pianist\n",
      "Home Pity\n",
      "Hotel Happiness\n",
      "Intrigue Worst\n",
      "Jacket Frisco\n",
      "King Evolution\n",
      "Lawless Vision\n",
      "Love Suicides\n",
      "Monsoon Cause\n",
      "Moonwalker Fool\n",
      "Muscle Bright\n",
      "Pond Seattle\n",
      "Records Zorro\n",
      "Reds Pocus\n",
      "Runaway Tenenbaums\n",
      "Saturn Name\n",
      "Scalawag Duck\n",
      "Searchers Wait\n",
      "Smoochy Control\n",
      "Soldiers Evolution\n",
      "Sons Interview\n",
      "Sorority Queen\n",
      "Star Operation\n",
      "Sweet Brotherhood\n",
      "Theory Mermaid\n",
      "Wife Turn\n",
      "Wild Apollo\n",
      "Worst Banger\n",
      "Young Language\n"
     ]
    }
   ],
   "source": [
    "! sqlite3 -batch sakila211.db \"SELECT title FROM film WHERE length>'180'\""
   ]
  },
  {
   "cell_type": "markdown",
   "metadata": {
    "deletable": true,
    "editable": true
   },
   "source": [
    "(8) How many films have a “G” rating and are less than 60 minutes long?"
   ]
  },
  {
   "cell_type": "code",
   "execution_count": 13,
   "metadata": {
    "collapsed": false,
    "deletable": false,
    "editable": true,
    "nbgrader": {
     "checksum": "3f60984cef7bc7cea4eebc63abbb9111",
     "grade": true,
     "grade_id": "query_8",
     "locked": false,
     "points": 2,
     "solution": true
    }
   },
   "outputs": [
    {
     "name": "stdout",
     "output_type": "stream",
     "text": [
      "9\n"
     ]
    }
   ],
   "source": [
    "! sqlite3 -batch sakila211.db \"SELECT count(*) FROM film WHERE rating='G' AND length>180\""
   ]
  },
  {
   "cell_type": "markdown",
   "metadata": {
    "deletable": true,
    "editable": true
   },
   "source": [
    "(9) What is the maximum replacement cost for any film?"
   ]
  },
  {
   "cell_type": "code",
   "execution_count": 14,
   "metadata": {
    "collapsed": false,
    "deletable": false,
    "editable": true,
    "nbgrader": {
     "checksum": "4e978c554314837f99ada46bba4506cc",
     "grade": true,
     "grade_id": "query_9",
     "locked": false,
     "points": 2,
     "solution": true
    }
   },
   "outputs": [
    {
     "name": "stdout",
     "output_type": "stream",
     "text": [
      "29.99\n"
     ]
    }
   ],
   "source": [
    "! sqlite3 -batch sakila211.db \"SELECT max(replacement_cost) FROM film\""
   ]
  },
  {
   "cell_type": "markdown",
   "metadata": {
    "deletable": true,
    "editable": true
   },
   "source": [
    "(10) Print a table that lists the different types of ratings and the number of films that have that rating."
   ]
  },
  {
   "cell_type": "code",
   "execution_count": 15,
   "metadata": {
    "collapsed": false,
    "deletable": false,
    "editable": true,
    "nbgrader": {
     "checksum": "8e1de89901999890be844e2915eb5ef4",
     "grade": true,
     "grade_id": "query_10",
     "locked": false,
     "points": 2,
     "solution": true
    }
   },
   "outputs": [
    {
     "name": "stdout",
     "output_type": "stream",
     "text": [
      "G|178\n",
      "NC-17|210\n",
      "PG|194\n",
      "PG-13|223\n",
      "R|195\n"
     ]
    }
   ],
   "source": [
    "! sqlite3 -batch sakila211.db \"SELECT rating, count(*) FROM film GROUP by rating\""
   ]
  },
  {
   "cell_type": "markdown",
   "metadata": {
    "deletable": true,
    "editable": true
   },
   "source": [
    "## <span style=\"color:teal\">Part 2: &nbsp; Joins</span>"
   ]
  },
  {
   "cell_type": "markdown",
   "metadata": {
    "deletable": true,
    "editable": true
   },
   "source": [
    "The following queries all require a join of two or more tables. As a hint for how to create the query the table names are shown next to each a question."
   ]
  },
  {
   "cell_type": "markdown",
   "metadata": {
    "deletable": true,
    "editable": true
   },
   "source": [
    "(11) What are the film IDs of movies starring Jude Cruise?  &nbsp; &nbsp; [`actor`, `film_actor`]"
   ]
  },
  {
   "cell_type": "code",
   "execution_count": 28,
   "metadata": {
    "collapsed": false,
    "deletable": false,
    "editable": true,
    "nbgrader": {
     "checksum": "c626f13f16b011b334890f13ccf48a7b",
     "grade": true,
     "grade_id": "query_11",
     "locked": false,
     "points": 3,
     "solution": true
    }
   },
   "outputs": [
    {
     "name": "stdout",
     "output_type": "stream",
     "text": [
      "16\n",
      "34\n",
      "101\n",
      "114\n",
      "122\n",
      "134\n",
      "144\n",
      "153\n",
      "192\n",
      "213\n",
      "258\n",
      "267\n",
      "317\n",
      "340\n",
      "393\n",
      "437\n",
      "447\n",
      "502\n",
      "592\n",
      "605\n",
      "637\n",
      "685\n",
      "707\n",
      "714\n",
      "717\n",
      "737\n",
      "767\n",
      "852\n",
      "891\n",
      "918\n"
     ]
    }
   ],
   "source": [
    "! sqlite3 -batch sakila211.db \"SELECT film_id FROM film_actor JOIN actor USING (actor_id) WHERE first_name = 'Jude' AND last_name = 'Cruise'\""
   ]
  },
  {
   "cell_type": "markdown",
   "metadata": {
    "deletable": true,
    "editable": true
   },
   "source": [
    "(12) What language was “Ace Goldfinger” filmed in?  &nbsp; &nbsp; [`film`, `language`]"
   ]
  },
  {
   "cell_type": "code",
   "execution_count": 35,
   "metadata": {
    "collapsed": false,
    "deletable": false,
    "editable": true,
    "nbgrader": {
     "checksum": "5c2b9575dc400f86b959c7ff874df154",
     "grade": true,
     "grade_id": "query_12",
     "locked": false,
     "points": 3,
     "solution": true
    }
   },
   "outputs": [
    {
     "name": "stdout",
     "output_type": "stream",
     "text": [
      "Japanese\n"
     ]
    }
   ],
   "source": [
    "! sqlite3 -batch sakila211.db \"SELECT name FROM language JOIN film USING (language_id) WHERE title = 'Ace Goldfinger'\""
   ]
  },
  {
   "cell_type": "markdown",
   "metadata": {
    "deletable": true,
    "editable": true
   },
   "source": [
    "(13) How many actors starred in the film named “Scalawag Duck”? &nbsp; &nbsp; [`film`, `film_actor`]"
   ]
  },
  {
   "cell_type": "code",
   "execution_count": 37,
   "metadata": {
    "collapsed": false,
    "deletable": false,
    "editable": true,
    "nbgrader": {
     "checksum": "7b8cb4dc76c252a465be7f30a878a2fd",
     "grade": true,
     "grade_id": "query_13",
     "locked": false,
     "points": 4,
     "solution": true
    }
   },
   "outputs": [
    {
     "name": "stdout",
     "output_type": "stream",
     "text": [
      "5\n"
     ]
    }
   ],
   "source": [
    "! sqlite3 -batch sakila211.db \"SELECT count(*) FROM film JOIN film_actor USING (film_id) WHERE title = 'Scalawag Duck'\""
   ]
  },
  {
   "cell_type": "markdown",
   "metadata": {
    "deletable": true,
    "editable": true
   },
   "source": [
    "(14) Produce a table that shows how many films each customer has rented.  &nbsp; &nbsp; [`customer`, `rental`]"
   ]
  },
  {
   "cell_type": "code",
   "execution_count": 96,
   "metadata": {
    "collapsed": false,
    "deletable": false,
    "editable": true,
    "nbgrader": {
     "checksum": "c602f9d9d2cb856929f4389375be8b02",
     "grade": true,
     "grade_id": "query_14",
     "locked": false,
     "points": 4,
     "solution": true
    }
   },
   "outputs": [
    {
     "name": "stdout",
     "output_type": "stream",
     "text": [
      "Charlotte|Hunter|1\n",
      "Tommy|Collazo|2\n",
      "Manuel|Murrell|3\n",
      "Andrew|Purdy|4\n",
      "Delores|Hansen|5\n",
      "Nelson|Christenson|6\n",
      "Cassandra|Walters|7\n",
      "Minnie|Romero|8\n",
      "Ellen|Simpson|9\n",
      "Danny|Isom|10\n",
      "April|Burns|11\n",
      "Deanna|Byrd|12\n",
      "Raymond|Mcwhorter|13\n",
      "Theodore|Culp|14\n",
      "Ronald|Weiner|15\n",
      "Steven|Curley|16\n",
      "Isaac|Oglesby|17\n",
      "Ruth|Martinez|18\n",
      "Ronnie|Ricketts|19\n",
      "Roberta|Harper|20\n"
     ]
    }
   ],
   "source": [
    "! sqlite3 -batch sakila211.db \"SELECT first_name, last_name, rental_id FROM customer JOIN rental USING(customer_id) LIMIT 20\""
   ]
  },
  {
   "cell_type": "markdown",
   "metadata": {
    "deletable": true,
    "editable": true
   },
   "source": [
    "(15) How many films did the customer named Smith rent?  &nbsp; &nbsp; [`customer`, `rental`]"
   ]
  },
  {
   "cell_type": "code",
   "execution_count": 63,
   "metadata": {
    "collapsed": false,
    "deletable": false,
    "editable": true,
    "nbgrader": {
     "checksum": "d5ddc9c23280c6c3d4b8355f165967a1",
     "grade": true,
     "grade_id": "query_15",
     "locked": false,
     "points": 4,
     "solution": true
    }
   },
   "outputs": [
    {
     "name": "stdout",
     "output_type": "stream",
     "text": [
      "32\n"
     ]
    }
   ],
   "source": [
    "! sqlite3 -batch sakila211.db \"SELECT count(*) FROM rental JOIN customer USING (customer_id) WHERE last_name = 'Smith'\""
   ]
  },
  {
   "cell_type": "markdown",
   "metadata": {
    "deletable": true,
    "editable": true
   },
   "source": [
    "(16) Which actors starred in “Splash Gump”?  &nbsp; &nbsp; [`film`, `film_actor`, `actor`]"
   ]
  },
  {
   "cell_type": "code",
   "execution_count": 75,
   "metadata": {
    "collapsed": false,
    "deletable": false,
    "editable": true,
    "nbgrader": {
     "checksum": "62934f2def9ff51a7b7eb88292c4c069",
     "grade": true,
     "grade_id": "query_17",
     "locked": false,
     "points": 4,
     "solution": true
    }
   },
   "outputs": [
    {
     "name": "stdout",
     "output_type": "stream",
     "text": [
      "Penelope|Guiness\n",
      "Jennifer|Davis\n",
      "Uma|Wood\n",
      "Cameron|Streep\n",
      "Christian|Neeson\n",
      "Ray|Johansson\n",
      "Gene|Willis\n",
      "Morgan|Williams\n",
      "Humphrey|Willis\n",
      "Al|Garland\n"
     ]
    }
   ],
   "source": [
    "! sqlite3 -batch sakila211.db \"SELECT first_name, last_name FROM film JOIN film_actor USING(film_id) JOIN actor USING(actor_id) WHERE title ='Splash Gump'\""
   ]
  },
  {
   "cell_type": "markdown",
   "metadata": {
    "deletable": true,
    "editable": true
   },
   "source": [
    "(17) Which films has Penelope Guiness starred in?  &nbsp; &nbsp; [`film`, `film_actor`, `actor`]"
   ]
  },
  {
   "cell_type": "code",
   "execution_count": 78,
   "metadata": {
    "collapsed": false,
    "deletable": false,
    "editable": true,
    "nbgrader": {
     "checksum": "d811e1e64a3a28da4103f0adb698f866",
     "grade": true,
     "grade_id": "query_18",
     "locked": false,
     "points": 4,
     "solution": true
    }
   },
   "outputs": [
    {
     "name": "stdout",
     "output_type": "stream",
     "text": [
      "Academy Dinosaur\n",
      "Anaconda Confessions\n",
      "Angels Life\n",
      "Bulworth Commandments\n",
      "Cheaper Clyde\n",
      "Color Philadelphia\n",
      "Elephant Trojan\n",
      "Gleaming Jawbreaker\n",
      "Human Graffiti\n",
      "King Evolution\n",
      "Lady Stage\n",
      "Language Cowboy\n",
      "Mulholland Beast\n",
      "Oklahoma Jumanji\n",
      "Rules Human\n",
      "Splash Gump\n",
      "Vertigo Northwest\n",
      "Westward Seabiscuit\n",
      "Wizard Coldblooded\n"
     ]
    }
   ],
   "source": [
    "! sqlite3 -batch sakila211.db \"SELECT title FROM film JOIN film_actor USING(film_id) JOIN actor USING(actor_id) where first_name = 'Penelope' AND last_name='Guiness'"
   ]
  },
  {
   "cell_type": "markdown",
   "metadata": {
    "deletable": true,
    "editable": true
   },
   "source": [
    "(18) What are the names of the films rented by the customer named Knight?  &nbsp; &nbsp; [`customer`, `rental`, `inventory`, `film`]"
   ]
  },
  {
   "cell_type": "code",
   "execution_count": 80,
   "metadata": {
    "collapsed": false,
    "deletable": false,
    "editable": true,
    "nbgrader": {
     "checksum": "66ea5f83cfdb46127212f07cc8dfa1aa",
     "grade": true,
     "grade_id": "query_19",
     "locked": false,
     "points": 4,
     "solution": true
    }
   },
   "outputs": [
    {
     "name": "stdout",
     "output_type": "stream",
     "text": [
      "Jericho Mulan\n",
      "Frost Head\n",
      "Clerks Angels\n",
      "Wife Turn\n",
      "Expecations Natural\n",
      "Lawless Vision\n",
      "Soup Wisdom\n",
      "Heartbreakers Bright\n",
      "Bikini Borrowers\n",
      "Attacks Hate\n",
      "Cupboard Sinners\n",
      "Princess Giant\n",
      "Cyclone Family\n",
      "Platoon Instinct\n",
      "Knock Warlock\n",
      "Excitement Eve\n",
      "Right Cranes\n",
      "Fatal Haunted\n",
      "Falcon Volume\n",
      "Tomorrow Hustler\n",
      "Half Outfield\n",
      "Horror Reign\n",
      "Borrowers Bedazzled\n"
     ]
    }
   ],
   "source": [
    "! sqlite3 -batch sakila211.db \"SELECT title FROM film JOIN inventory USING(film_id) JOIN rental USING(inventory_id) JOIN customer USING (customer_id) WHERE first_name = 'Knight' OR last_name = 'Knight'\""
   ]
  },
  {
   "cell_type": "markdown",
   "metadata": {
    "deletable": true,
    "editable": true
   },
   "source": [
    "## <span style=\"color:teal\">Part 3: &nbsp; Monthly Report</span>"
   ]
  },
  {
   "cell_type": "markdown",
   "metadata": {
    "deletable": true,
    "editable": true
   },
   "source": [
    "For this part of the project you will write a report generator that will print a summary of monthly activity for a customer.  The report should show a list of all the films rented during the month along with a total amount due.\n",
    "This example shows the activity for the customer named Leo Ebert for the month of June, 2005.\n",
    "\n",
    "<pre>\n",
    "--- Sakila DVD Rentals ---\n",
    "\n",
    "Monthly Report for Leo Ebert \n",
    "\n",
    "Lonely Elephant                 06/16/2005    $2.99\n",
    "                   ** late fee  06/24/2005    $2.99\n",
    "Enemy Odds                      06/18/2005    $4.99\n",
    "                   ** late fee  06/27/2005    $4.99\n",
    "Song Hedwig                     06/20/2005    $0.99\n",
    "                   ** late fee  06/26/2005    $0.99\n",
    "Wash Heavenly                   06/21/2005    $4.99\n",
    "Hurricane Affair                06/21/2005    $2.99\n",
    "\n",
    "Monthly Total:  $25.92\n",
    "</pre>\n",
    "\n",
    "To compute the total, the report generator needs to add up all the rental fees, and for any film returned late, add an additional rental fee as the late charge. In the example, Leo rented *Lonely Elephant* on June 16 but didn’t return it until June 24. It was a 3-day rental, so he was charged an additional \\$2.99 (it was 5 days late, so we could have charged him \\$4.98 in late fees, but we’ll keep it simple and just charge the basic fee as the late fee).\n",
    "\n",
    "We've broken the problem into separate parts so they can be implemented and tested separately.  Your job is to fill in the code cells so each part passes the auto-grader tests.\n",
    "\n",
    "**Note:** &nbsp; There is no documentation requirement for this project."
   ]
  },
  {
   "cell_type": "markdown",
   "metadata": {
    "deletable": true,
    "editable": true
   },
   "source": [
    "### <span style=\"color:teal\">Database Connection</span>"
   ]
  },
  {
   "cell_type": "markdown",
   "metadata": {
    "deletable": true,
    "editable": true
   },
   "source": [
    "To simplify the code for this program you can define the database connection as a global variable.  The following code cell imports the libraries you need and defines the database connection."
   ]
  },
  {
   "cell_type": "code",
   "execution_count": 97,
   "metadata": {
    "collapsed": true,
    "deletable": true,
    "editable": true
   },
   "outputs": [],
   "source": [
    "from sqlite3 import connect\n",
    "\n",
    "db = connect('sakila211.db')\n"
   ]
  },
  {
   "cell_type": "markdown",
   "metadata": {
    "deletable": true,
    "editable": true
   },
   "source": [
    "### <span style=\"color:teal\">Dates</span>"
   ]
  },
  {
   "cell_type": "markdown",
   "metadata": {
    "deletable": true,
    "editable": true
   },
   "source": [
    "Dates in a SQLite database are stored as strings.  The function below uses a Python library named `datetime` to parse a date string and return a string that can be printed as part of the report.  Read the online documentation for the `datetime` module if you want to learn more about date formats and functions that parse and format dates.\n",
    "\n",
    "**Note:** &nbsp; The format string is a global variable -- you can use this same format in your function that checks to see if a CD is overdue."
   ]
  },
  {
   "cell_type": "code",
   "execution_count": 98,
   "metadata": {
    "collapsed": true,
    "deletable": true,
    "editable": true
   },
   "outputs": [],
   "source": [
    "from datetime import datetime\n",
    "\n",
    "date_format = \"%Y-%m-%d %H:%M:%S.%f\"\n",
    "\n",
    "def mmddyyyy(date):\n",
    "    d = datetime.strptime(date, date_format)\n",
    "    return '{:02d}/{:02d}/{:02d}'.format(d.month, d.day, d.year)"
   ]
  },
  {
   "cell_type": "code",
   "execution_count": 99,
   "metadata": {
    "collapsed": false,
    "deletable": true,
    "editable": true
   },
   "outputs": [],
   "source": [
    "assert mmddyyyy('2005-02-26 20:59:35.000') == '02/26/2005'"
   ]
  },
  {
   "cell_type": "markdown",
   "metadata": {
    "deletable": true,
    "editable": true
   },
   "source": [
    "### <span style=\"color:teal\">Customer Name</span>"
   ]
  },
  {
   "cell_type": "markdown",
   "metadata": {
    "deletable": true,
    "editable": true
   },
   "source": [
    "Fill in the definition of the `customer_name` function.  It will be passed a string with a last name, and it should return a list of tuples of the form `(first, last)` with the first and last names of all customers with the same last name.  If there are no customers with that name the list should be empty."
   ]
  },
  {
   "cell_type": "code",
   "execution_count": 145,
   "metadata": {
    "collapsed": false,
    "deletable": false,
    "editable": true,
    "nbgrader": {
     "checksum": "e70c884e18f10012edb52e87d2719697",
     "grade": true,
     "grade_id": "customer_name",
     "locked": false,
     "points": 4,
     "solution": true
    }
   },
   "outputs": [],
   "source": [
    "def customer_names(s):\n",
    "    instructor = 'SELECT first_name FROM customer WHERE last_name = ?'\n",
    "    r = db.execute(instructor, (s.capitalize(), )).fetchone()\n",
    "    \n",
    "    if r == None:\n",
    "        return []\n",
    "    return [(r[0], s.capitalize())]"
   ]
  },
  {
   "cell_type": "markdown",
   "metadata": {
    "deletable": true,
    "editable": true
   },
   "source": [
    "##### <span style=\"color:red\">Autograder Tests:</span>"
   ]
  },
  {
   "cell_type": "markdown",
   "metadata": {
    "deletable": true,
    "editable": true
   },
   "source": [
    "**Do not edit, copy, or delete these cells.**"
   ]
  },
  {
   "cell_type": "code",
   "execution_count": 147,
   "metadata": {
    "collapsed": false,
    "deletable": false,
    "editable": true,
    "nbgrader": {
     "checksum": "a058825c6ac9ee1512975bf08b53f5e2",
     "grade": true,
     "grade_id": "cname_1",
     "locked": true,
     "points": 2,
     "solution": false
    }
   },
   "outputs": [],
   "source": [
    "assert customer_names('ebert') == [('Leo', 'Ebert')]"
   ]
  },
  {
   "cell_type": "code",
   "execution_count": 148,
   "metadata": {
    "collapsed": false,
    "deletable": false,
    "editable": true,
    "nbgrader": {
     "checksum": "8368cbc5b9882ede9ad70397eec55502",
     "grade": true,
     "grade_id": "cname_2",
     "locked": true,
     "points": 2,
     "solution": false
    }
   },
   "outputs": [],
   "source": [
    "assert customer_names('smith') == [('Mary', 'Smith')]"
   ]
  },
  {
   "cell_type": "code",
   "execution_count": 149,
   "metadata": {
    "collapsed": false,
    "deletable": false,
    "editable": true,
    "nbgrader": {
     "checksum": "898903e3d3e5b92bea1199d595596f78",
     "grade": true,
     "grade_id": "cname_3",
     "locked": true,
     "points": 2,
     "solution": false
    }
   },
   "outputs": [],
   "source": [
    "assert customer_names('turing') == []"
   ]
  },
  {
   "cell_type": "markdown",
   "metadata": {
    "deletable": true,
    "editable": true
   },
   "source": [
    "### <span style=\"color:teal\">Film List</span>"
   ]
  },
  {
   "cell_type": "markdown",
   "metadata": {
    "deletable": true,
    "editable": true
   },
   "source": [
    "Fill in the body of the `film_list` function so it returns a list of all CDs rented by a customer during a specified month. \n",
    "The parameters that will be passed to the function are the customer's last name (a string) and the month and year (both integers).  Return a list of tuples that have the following values, in the order shown:\n",
    "* film title\n",
    "* rental rate (how much it costs to rent the CD)\n",
    "* rental date (the date the CD was rented)\n",
    "* return date (the date the CD was returned)\n",
    "* rental duration (the number of days the CD can be out before a late fee is charged) \n",
    "\n",
    "All of the information you need can be retrieved with a single query that joins the rental, inventory, film, and customer tables. Note that this is the same query used to answer Question 19 above, except with different column names.\n",
    "\n",
    "**Hint:** &nbsp; The dates in the database are strings.  Think about pattern matching when you write the WHERE clause that specifies the date range.\n"
   ]
  },
  {
   "cell_type": "code",
   "execution_count": 179,
   "metadata": {
    "collapsed": false,
    "deletable": false,
    "editable": true,
    "nbgrader": {
     "checksum": "f088858c2cd4711c5ab68e68cb012b98",
     "grade": true,
     "grade_id": "film_list",
     "locked": false,
     "points": 6,
     "solution": true
    }
   },
   "outputs": [],
   "source": [
    "def film_list(name, month, year):\n",
    "    name = name.capitalize()\n",
    "    ret_list = list()\n",
    "    \n",
    "    query_str = \"SELECT title, rental_rate, rental_date, return_date, rental_duration FROM film JOIN inventory USING (film_id) JOIN rental USING (inventory_id) JOIN customer USING (customer_id) WHERE last_name = ?\"\n",
    "    result = db.execute(query_str, (name, ) )\n",
    "    \n",
    "    for line in result:\n",
    "        tup = ()\n",
    "        title, rate, date1, date2, rent_dur = line\n",
    "        \n",
    "        if (datetime.strptime(date1, date_format).month == month) and (datetime.strptime(date1, date_format).year == year):\n",
    "            tup = line\n",
    "            ret_list.append(tup)\n",
    "            \n",
    "    return ret_list"
   ]
  },
  {
   "cell_type": "markdown",
   "metadata": {
    "deletable": true,
    "editable": true
   },
   "source": [
    "##### <span style=\"color:red\">Autograder Tests:</span>"
   ]
  },
  {
   "cell_type": "markdown",
   "metadata": {
    "deletable": true,
    "editable": true
   },
   "source": [
    "**Do not edit, copy, or delete these cells.**"
   ]
  },
  {
   "cell_type": "code",
   "execution_count": 180,
   "metadata": {
    "collapsed": false,
    "deletable": false,
    "editable": true,
    "nbgrader": {
     "checksum": "ecda577b6149a8ba1c87959857708ffe",
     "grade": true,
     "grade_id": "film_1",
     "locked": true,
     "points": 2,
     "solution": false
    }
   },
   "outputs": [],
   "source": [
    "leo = film_list('Ebert', 6, 2005)\n",
    "assert len(leo) == 5\n",
    "assert leo[0] == (('Lonely Elephant', 2.99, '2005-06-16 20:59:35.000', '2005-06-24 15:31:35.000', 3))"
   ]
  },
  {
   "cell_type": "code",
   "execution_count": 181,
   "metadata": {
    "collapsed": true,
    "deletable": false,
    "editable": true,
    "nbgrader": {
     "checksum": "bb03a0a830f1591b9770aa54a841b5aa",
     "grade": true,
     "grade_id": "film_2",
     "locked": true,
     "points": 2,
     "solution": false
    }
   },
   "outputs": [],
   "source": [
    "mary = film_list('Smith', 8, 2005)\n",
    "assert len(mary) == 11\n",
    "assert mary[0] == ('Adaptation Holes', 2.99, '2005-08-01 08:51:04.000', '2005-08-10 12:12:04.000', 7)"
   ]
  },
  {
   "cell_type": "markdown",
   "metadata": {
    "deletable": true,
    "editable": true
   },
   "source": [
    "### <span style=\"color:teal\">Overdue CDs</span>"
   ]
  },
  {
   "cell_type": "markdown",
   "metadata": {
    "deletable": true,
    "editable": true
   },
   "source": [
    "To decide whether a CD was returned late you need to subtract the rental date from the return date and see if the difference is greater than the rental duration. The easiest way to do this is to use Python’s `datetime` library.\n",
    "\n",
    "Using a call to `strptime` (see the body of the `mmddyyyy` function defined above) create `datetime` objects for the rental date and the return date. Then subtract the rental date from the return date to get a `timedelta` object:\n",
    "```\n",
    "    diff = returned - rented\n",
    "```\n",
    "Now you can get attributes of the object named `diff` to tell you how far apart the dates were, for example `diff.days` will tell you the time difference in days.\n",
    "\n",
    "Fill in the body of the `overdue` function.  The parameters are a rental date, a return date, and the rental duration.  Return TRUE if the CD was not returned or if the number of days it was checked out is greater than the rental duration."
   ]
  },
  {
   "cell_type": "code",
   "execution_count": 182,
   "metadata": {
    "collapsed": true,
    "deletable": false,
    "editable": true,
    "nbgrader": {
     "checksum": "c323f797a07a6c9b3735ad8edf1d3421",
     "grade": true,
     "grade_id": "overdue",
     "locked": false,
     "points": 4,
     "solution": true
    }
   },
   "outputs": [],
   "source": [
    "def overdue(rent_date, return_date, duration):\n",
    "    \n",
    "    d1 = datetime.strptime(rent_date, date_format)\n",
    "    d2 = datetime.strptime(return_date, date_format)\n",
    "    \n",
    "    diff = d2 - d1\n",
    "    \n",
    "    if diff.days > duration:\n",
    "        return True\n",
    "    return False"
   ]
  },
  {
   "cell_type": "code",
   "execution_count": 183,
   "metadata": {
    "collapsed": false,
    "deletable": false,
    "editable": true,
    "nbgrader": {
     "checksum": "80d794c42ab8cce996954fd9b03c3ab3",
     "grade": true,
     "grade_id": "overdue_1",
     "locked": true,
     "points": 2,
     "solution": false
    }
   },
   "outputs": [],
   "source": [
    "assert overdue('2005-06-16 20:59:35.000', '2005-06-19 20:59:35.000', 2)"
   ]
  },
  {
   "cell_type": "code",
   "execution_count": 184,
   "metadata": {
    "collapsed": false,
    "deletable": false,
    "editable": true,
    "nbgrader": {
     "checksum": "765469f430365b95790c1fc6ca19f4c8",
     "grade": true,
     "grade_id": "overdue_2",
     "locked": true,
     "points": 2,
     "solution": false
    }
   },
   "outputs": [],
   "source": [
    "assert not overdue('2005-06-16 20:59:35.000', '2005-06-17 20:59:35.000', 2)"
   ]
  },
  {
   "cell_type": "code",
   "execution_count": 185,
   "metadata": {
    "collapsed": false,
    "deletable": false,
    "editable": true,
    "nbgrader": {
     "checksum": "05f3f9c7bd7551799d290730dbebb1fe",
     "grade": true,
     "grade_id": "overdue_3",
     "locked": true,
     "points": 2,
     "solution": false
    }
   },
   "outputs": [],
   "source": [
    "assert not overdue('2005-06-16 20:59:35.000', '2005-06-19 20:59:34.000', 2)"
   ]
  },
  {
   "cell_type": "markdown",
   "metadata": {
    "deletable": true,
    "editable": true
   },
   "source": [
    "### <span style=\"color:teal\">Report Generator</span>"
   ]
  },
  {
   "cell_type": "markdown",
   "metadata": {
    "deletable": true,
    "editable": true
   },
   "source": [
    "Fill in the body of the function named `sakila_report` so it prints a monthly report.  The arguments passed to the function will be a customer's last name (a string) and a month and year (both integers).\n",
    "\n",
    "If the customer is not in the database, or if there are two customers with the same last name, return None.  Otherwise print a list of films and late fees and the total amount due.\n",
    "\n",
    "You can format the report however you would like, as long as the following items appear somewhere in the output:\n",
    "* every fee should be printed with a dollar sign and an amount, for example `$2.99` or `25.92`\n",
    "* the total amound due should be printed on a line that includes the word `\"Total\"` followed by a dollar amount on the same line"
   ]
  },
  {
   "cell_type": "code",
   "execution_count": 277,
   "metadata": {
    "collapsed": false,
    "deletable": false,
    "editable": true,
    "nbgrader": {
     "checksum": "1df4a1d4be88cc0c6f4280e906e005f8",
     "grade": true,
     "grade_id": "report",
     "locked": false,
     "points": 10,
     "solution": true
    }
   },
   "outputs": [],
   "source": [
    "def sakila_report(customer, month, year):\n",
    "    query_str = 'SELECT last_name FROM customer where last_name = ?'\n",
    "    res = db.execute(query_str, (customer,))\n",
    "    \n",
    "    count = 0\n",
    "    for el in res:\n",
    "        count +=1\n",
    "    if (count > 1) or (count == 0):\n",
    "        return None\n",
    "    \n",
    "    rent_history = film_list(customer, month, year)\n",
    "    total = 0\n",
    "    \n",
    "    for rental in rent_history: \n",
    "        title, rate, date1, date2, rent_dur = rental\n",
    "        total += float(rate)\n",
    "        print(title,\"${}\".format(rate))\n",
    "        if overdue(date1, date2, rent_dur):\n",
    "            total += float(rate)\n",
    "            print(\"Late Fee:\", title,\"${}\".format(rate))\n",
    "            \n",
    "    print(\"Total ${}\".format(round(total,2)))"
   ]
  },
  {
   "cell_type": "markdown",
   "metadata": {
    "deletable": true,
    "editable": true
   },
   "source": [
    "##### <span style=\"color:red\">Tests</span>"
   ]
  },
  {
   "cell_type": "markdown",
   "metadata": {
    "deletable": true,
    "editable": true
   },
   "source": [
    "You can use code cells in this section (and add more if you wish) to test your functions."
   ]
  },
  {
   "cell_type": "code",
   "execution_count": 278,
   "metadata": {
    "collapsed": false,
    "deletable": true,
    "editable": true
   },
   "outputs": [
    {
     "name": "stdout",
     "output_type": "stream",
     "text": [
      "Oscar Gold $2.99\n",
      "Million Ace $4.99\n",
      "Whale Bikini $4.99\n",
      "Late Fee: Whale Bikini $4.99\n",
      "Total $17.96\n"
     ]
    }
   ],
   "source": [
    "sakila_report('James', 6, 2005)"
   ]
  },
  {
   "cell_type": "markdown",
   "metadata": {
    "deletable": true,
    "editable": true
   },
   "source": [
    "##### <span style=\"color:red\">Autograder Tests</span>"
   ]
  },
  {
   "cell_type": "markdown",
   "metadata": {
    "deletable": true,
    "editable": true
   },
   "source": [
    "The tests for the `sakila_report` function will call the function and while using the IPython `capture` command to save everything the function prints.  We'll then use a function that counts the number of times a dollar amount (from either a rental fee or a late fee) occurs and make sure the total amount is the expected value.\n",
    "\n",
    "**Do not edit, copy, or delete these cells.**"
   ]
  },
  {
   "cell_type": "code",
   "execution_count": 279,
   "metadata": {
    "collapsed": false,
    "deletable": false,
    "editable": true,
    "nbgrader": {
     "checksum": "2f49d1799c7ab14021f07a28be3c903a",
     "grade": false,
     "grade_id": "check_report",
     "locked": true,
     "solution": false
    }
   },
   "outputs": [],
   "source": [
    "import re\n",
    "\n",
    "def check_report(text, expected_count, expected_total):\n",
    "    nums = []\n",
    "    for line in text.split('\\n'):\n",
    "        has_total = re.search(r'Total.*(\\$\\d+\\.\\d\\d)', line)\n",
    "        if has_total:\n",
    "            assert has_total.group(1) == expected_total\n",
    "        else:\n",
    "            for s in re.findall(r'\\$\\d+\\.\\d\\d', line):\n",
    "                nums.append(s)\n",
    "    assert(len(nums) == expected_count)\n",
    "    total = 0.0\n",
    "    for s in nums:\n",
    "        total += float(s[1:])\n",
    "    assert(round(total,2)) == round(float(expected_total[1:]), 2)\n",
    "    return True"
   ]
  },
  {
   "cell_type": "code",
   "execution_count": 280,
   "metadata": {
    "collapsed": false,
    "deletable": false,
    "editable": true,
    "nbgrader": {
     "checksum": "669aa6961ac2f3df7f43f3739c606684",
     "grade": false,
     "grade_id": "capture_leo",
     "locked": true,
     "solution": false
    }
   },
   "outputs": [],
   "source": [
    "%%capture res\n",
    "sakila_report('Ebert', 6, 2005)"
   ]
  },
  {
   "cell_type": "code",
   "execution_count": 281,
   "metadata": {
    "collapsed": false,
    "deletable": false,
    "editable": true,
    "nbgrader": {
     "checksum": "52d5bbb12d2951cd7f316dfafb8f9357",
     "grade": true,
     "grade_id": "leo_test",
     "locked": true,
     "points": 4,
     "solution": false
    }
   },
   "outputs": [],
   "source": [
    "assert check_report(res.stdout, 8, '$25.92')"
   ]
  },
  {
   "cell_type": "code",
   "execution_count": 282,
   "metadata": {
    "collapsed": false,
    "deletable": false,
    "editable": true,
    "nbgrader": {
     "checksum": "8ff3338ef9d21fa580671aa6f7141965",
     "grade": false,
     "grade_id": "capture_mary",
     "locked": true,
     "solution": false
    }
   },
   "outputs": [],
   "source": [
    "%%capture res\n",
    "sakila_report('Smith', 8, 2005)"
   ]
  },
  {
   "cell_type": "code",
   "execution_count": 283,
   "metadata": {
    "collapsed": false,
    "deletable": false,
    "editable": true,
    "nbgrader": {
     "checksum": "ef16e7521cb06dedabc59aa25a9e390d",
     "grade": true,
     "grade_id": "mary_test",
     "locked": true,
     "points": 4,
     "solution": false
    }
   },
   "outputs": [],
   "source": [
    "assert check_report(res.stdout, 15, '$32.85')"
   ]
  },
  {
   "cell_type": "code",
   "execution_count": 284,
   "metadata": {
    "collapsed": false,
    "deletable": false,
    "editable": true,
    "nbgrader": {
     "checksum": "f405bf0dc3d1f189495a57dfdc8b8a1e",
     "grade": false,
     "grade_id": "capture_alan",
     "locked": true,
     "solution": false
    }
   },
   "outputs": [],
   "source": [
    "%%capture res\n",
    "sakila_report('Turing', 6, 2005)"
   ]
  },
  {
   "cell_type": "code",
   "execution_count": 285,
   "metadata": {
    "collapsed": false,
    "deletable": false,
    "editable": true,
    "nbgrader": {
     "checksum": "db75b21478ac4552611eeb700788d17c",
     "grade": true,
     "grade_id": "alan_test",
     "locked": true,
     "points": 2,
     "solution": false
    }
   },
   "outputs": [],
   "source": [
    "assert len(res.stdout) == 0"
   ]
  },
  {
   "cell_type": "code",
   "execution_count": 286,
   "metadata": {
    "collapsed": false,
    "deletable": true,
    "editable": true
   },
   "outputs": [
    {
     "name": "stdout",
     "output_type": "stream",
     "text": [
      "Lonely Elephant $2.99\n",
      "Late Fee: Lonely Elephant $2.99\n",
      "Enemy Odds $4.99\n",
      "Late Fee: Enemy Odds $4.99\n",
      "Song Hedwig $0.99\n",
      "Late Fee: Song Hedwig $0.99\n",
      "Wash Heavenly $4.99\n",
      "Hurricane Affair $2.99\n",
      "Total $25.92\n"
     ]
    }
   ],
   "source": [
    "sakila_report('Ebert', 6, 2005)"
   ]
  },
  {
   "cell_type": "code",
   "execution_count": null,
   "metadata": {
    "collapsed": true
   },
   "outputs": [],
   "source": []
  },
  {
   "cell_type": "code",
   "execution_count": null,
   "metadata": {
    "collapsed": true
   },
   "outputs": [],
   "source": []
  }
 ],
 "metadata": {
  "anaconda-cloud": {},
  "kernelspec": {
   "display_name": "Python [default]",
   "language": "python",
   "name": "python3"
  },
  "language_info": {
   "codemirror_mode": {
    "name": "ipython",
    "version": 3
   },
   "file_extension": ".py",
   "mimetype": "text/x-python",
   "name": "python",
   "nbconvert_exporter": "python",
   "pygments_lexer": "ipython3",
   "version": "3.5.2"
  }
 },
 "nbformat": 4,
 "nbformat_minor": 0
}
